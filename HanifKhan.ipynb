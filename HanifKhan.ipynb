{
 "cells": [
  {
   "cell_type": "code",
   "execution_count": 1,
   "metadata": {},
   "outputs": [],
   "source": [
    "# Importing necessary libraries\n",
    "import numpy as np\n",
    "import pandas as pd\n",
    "import matplotlib.pyplot as plt\n",
    "import seaborn as sns\n",
    "import statsmodels.api as sm\n",
    "from sklearn.model_selection import train_test_split\n",
    "from sklearn.preprocessing import MinMaxScaler\n",
    "from sklearn.feature_selection import RFE\n",
    "from sklearn.linear_model import LinearRegression\n",
    "from statsmodels.stats.outliers_influence import variance_inflation_factor\n",
    "from sklearn.metrics import r2_score\n",
    "import warnings\n",
    "warnings.filterwarnings('ignore')\n",
    "%matplotlib inline"
   ]
  },
  {
   "cell_type": "markdown",
   "metadata": {},
   "source": [
    "# Reading and Understanding the Data"
   ]
  },
  {
   "cell_type": "code",
   "execution_count": 2,
   "metadata": {},
   "outputs": [
    {
     "data": {
      "text/html": [
       "<div>\n",
       "<style scoped>\n",
       "    .dataframe tbody tr th:only-of-type {\n",
       "        vertical-align: middle;\n",
       "    }\n",
       "\n",
       "    .dataframe tbody tr th {\n",
       "        vertical-align: top;\n",
       "    }\n",
       "\n",
       "    .dataframe thead th {\n",
       "        text-align: right;\n",
       "    }\n",
       "</style>\n",
       "<table border=\"1\" class=\"dataframe\">\n",
       "  <thead>\n",
       "    <tr style=\"text-align: right;\">\n",
       "      <th></th>\n",
       "      <th>car_ID</th>\n",
       "      <th>symboling</th>\n",
       "      <th>CarName</th>\n",
       "      <th>fueltype</th>\n",
       "      <th>aspiration</th>\n",
       "      <th>doornumber</th>\n",
       "      <th>carbody</th>\n",
       "      <th>drivewheel</th>\n",
       "      <th>enginelocation</th>\n",
       "      <th>wheelbase</th>\n",
       "      <th>...</th>\n",
       "      <th>enginesize</th>\n",
       "      <th>fuelsystem</th>\n",
       "      <th>boreratio</th>\n",
       "      <th>stroke</th>\n",
       "      <th>compressionratio</th>\n",
       "      <th>horsepower</th>\n",
       "      <th>peakrpm</th>\n",
       "      <th>citympg</th>\n",
       "      <th>highwaympg</th>\n",
       "      <th>price</th>\n",
       "    </tr>\n",
       "  </thead>\n",
       "  <tbody>\n",
       "    <tr>\n",
       "      <th>0</th>\n",
       "      <td>1</td>\n",
       "      <td>3</td>\n",
       "      <td>alfa-romero giulia</td>\n",
       "      <td>gas</td>\n",
       "      <td>std</td>\n",
       "      <td>two</td>\n",
       "      <td>convertible</td>\n",
       "      <td>rwd</td>\n",
       "      <td>front</td>\n",
       "      <td>88.6</td>\n",
       "      <td>...</td>\n",
       "      <td>130</td>\n",
       "      <td>mpfi</td>\n",
       "      <td>3.47</td>\n",
       "      <td>2.68</td>\n",
       "      <td>9.0</td>\n",
       "      <td>111</td>\n",
       "      <td>5000</td>\n",
       "      <td>21</td>\n",
       "      <td>27</td>\n",
       "      <td>13495.0</td>\n",
       "    </tr>\n",
       "    <tr>\n",
       "      <th>1</th>\n",
       "      <td>2</td>\n",
       "      <td>3</td>\n",
       "      <td>alfa-romero stelvio</td>\n",
       "      <td>gas</td>\n",
       "      <td>std</td>\n",
       "      <td>two</td>\n",
       "      <td>convertible</td>\n",
       "      <td>rwd</td>\n",
       "      <td>front</td>\n",
       "      <td>88.6</td>\n",
       "      <td>...</td>\n",
       "      <td>130</td>\n",
       "      <td>mpfi</td>\n",
       "      <td>3.47</td>\n",
       "      <td>2.68</td>\n",
       "      <td>9.0</td>\n",
       "      <td>111</td>\n",
       "      <td>5000</td>\n",
       "      <td>21</td>\n",
       "      <td>27</td>\n",
       "      <td>16500.0</td>\n",
       "    </tr>\n",
       "    <tr>\n",
       "      <th>2</th>\n",
       "      <td>3</td>\n",
       "      <td>1</td>\n",
       "      <td>alfa-romero Quadrifoglio</td>\n",
       "      <td>gas</td>\n",
       "      <td>std</td>\n",
       "      <td>two</td>\n",
       "      <td>hatchback</td>\n",
       "      <td>rwd</td>\n",
       "      <td>front</td>\n",
       "      <td>94.5</td>\n",
       "      <td>...</td>\n",
       "      <td>152</td>\n",
       "      <td>mpfi</td>\n",
       "      <td>2.68</td>\n",
       "      <td>3.47</td>\n",
       "      <td>9.0</td>\n",
       "      <td>154</td>\n",
       "      <td>5000</td>\n",
       "      <td>19</td>\n",
       "      <td>26</td>\n",
       "      <td>16500.0</td>\n",
       "    </tr>\n",
       "    <tr>\n",
       "      <th>3</th>\n",
       "      <td>4</td>\n",
       "      <td>2</td>\n",
       "      <td>audi 100 ls</td>\n",
       "      <td>gas</td>\n",
       "      <td>std</td>\n",
       "      <td>four</td>\n",
       "      <td>sedan</td>\n",
       "      <td>fwd</td>\n",
       "      <td>front</td>\n",
       "      <td>99.8</td>\n",
       "      <td>...</td>\n",
       "      <td>109</td>\n",
       "      <td>mpfi</td>\n",
       "      <td>3.19</td>\n",
       "      <td>3.40</td>\n",
       "      <td>10.0</td>\n",
       "      <td>102</td>\n",
       "      <td>5500</td>\n",
       "      <td>24</td>\n",
       "      <td>30</td>\n",
       "      <td>13950.0</td>\n",
       "    </tr>\n",
       "    <tr>\n",
       "      <th>4</th>\n",
       "      <td>5</td>\n",
       "      <td>2</td>\n",
       "      <td>audi 100ls</td>\n",
       "      <td>gas</td>\n",
       "      <td>std</td>\n",
       "      <td>four</td>\n",
       "      <td>sedan</td>\n",
       "      <td>4wd</td>\n",
       "      <td>front</td>\n",
       "      <td>99.4</td>\n",
       "      <td>...</td>\n",
       "      <td>136</td>\n",
       "      <td>mpfi</td>\n",
       "      <td>3.19</td>\n",
       "      <td>3.40</td>\n",
       "      <td>8.0</td>\n",
       "      <td>115</td>\n",
       "      <td>5500</td>\n",
       "      <td>18</td>\n",
       "      <td>22</td>\n",
       "      <td>17450.0</td>\n",
       "    </tr>\n",
       "  </tbody>\n",
       "</table>\n",
       "<p>5 rows × 26 columns</p>\n",
       "</div>"
      ],
      "text/plain": [
       "   car_ID  symboling                   CarName fueltype aspiration doornumber  \\\n",
       "0       1          3        alfa-romero giulia      gas        std        two   \n",
       "1       2          3       alfa-romero stelvio      gas        std        two   \n",
       "2       3          1  alfa-romero Quadrifoglio      gas        std        two   \n",
       "3       4          2               audi 100 ls      gas        std       four   \n",
       "4       5          2                audi 100ls      gas        std       four   \n",
       "\n",
       "       carbody drivewheel enginelocation  wheelbase  ...  enginesize  \\\n",
       "0  convertible        rwd          front       88.6  ...         130   \n",
       "1  convertible        rwd          front       88.6  ...         130   \n",
       "2    hatchback        rwd          front       94.5  ...         152   \n",
       "3        sedan        fwd          front       99.8  ...         109   \n",
       "4        sedan        4wd          front       99.4  ...         136   \n",
       "\n",
       "   fuelsystem  boreratio  stroke compressionratio horsepower  peakrpm citympg  \\\n",
       "0        mpfi       3.47    2.68              9.0        111     5000      21   \n",
       "1        mpfi       3.47    2.68              9.0        111     5000      21   \n",
       "2        mpfi       2.68    3.47              9.0        154     5000      19   \n",
       "3        mpfi       3.19    3.40             10.0        102     5500      24   \n",
       "4        mpfi       3.19    3.40              8.0        115     5500      18   \n",
       "\n",
       "   highwaympg    price  \n",
       "0          27  13495.0  \n",
       "1          27  16500.0  \n",
       "2          26  16500.0  \n",
       "3          30  13950.0  \n",
       "4          22  17450.0  \n",
       "\n",
       "[5 rows x 26 columns]"
      ]
     },
     "execution_count": 2,
     "metadata": {},
     "output_type": "execute_result"
    }
   ],
   "source": [
    "# Loading car-price data into dataframe car_df\n",
    "car_df = pd.read_csv(\"CarPrice_Assignment.csv\")\n",
    "\n",
    "# Checking data of car_df\n",
    "car_df.head()"
   ]
  },
  {
   "cell_type": "code",
   "execution_count": 3,
   "metadata": {},
   "outputs": [
    {
     "data": {
      "text/plain": [
       "(205, 26)"
      ]
     },
     "execution_count": 3,
     "metadata": {},
     "output_type": "execute_result"
    }
   ],
   "source": [
    "# Checking shape of car_df\n",
    "car_df.shape"
   ]
  },
  {
   "cell_type": "code",
   "execution_count": 4,
   "metadata": {},
   "outputs": [
    {
     "name": "stdout",
     "output_type": "stream",
     "text": [
      "<class 'pandas.core.frame.DataFrame'>\n",
      "RangeIndex: 205 entries, 0 to 204\n",
      "Data columns (total 26 columns):\n",
      "car_ID              205 non-null int64\n",
      "symboling           205 non-null int64\n",
      "CarName             205 non-null object\n",
      "fueltype            205 non-null object\n",
      "aspiration          205 non-null object\n",
      "doornumber          205 non-null object\n",
      "carbody             205 non-null object\n",
      "drivewheel          205 non-null object\n",
      "enginelocation      205 non-null object\n",
      "wheelbase           205 non-null float64\n",
      "carlength           205 non-null float64\n",
      "carwidth            205 non-null float64\n",
      "carheight           205 non-null float64\n",
      "curbweight          205 non-null int64\n",
      "enginetype          205 non-null object\n",
      "cylindernumber      205 non-null object\n",
      "enginesize          205 non-null int64\n",
      "fuelsystem          205 non-null object\n",
      "boreratio           205 non-null float64\n",
      "stroke              205 non-null float64\n",
      "compressionratio    205 non-null float64\n",
      "horsepower          205 non-null int64\n",
      "peakrpm             205 non-null int64\n",
      "citympg             205 non-null int64\n",
      "highwaympg          205 non-null int64\n",
      "price               205 non-null float64\n",
      "dtypes: float64(8), int64(8), object(10)\n",
      "memory usage: 41.7+ KB\n"
     ]
    }
   ],
   "source": [
    "# Checking information of columns of car_df\n",
    "car_df.info()"
   ]
  },
  {
   "cell_type": "code",
   "execution_count": 5,
   "metadata": {},
   "outputs": [
    {
     "data": {
      "text/html": [
       "<div>\n",
       "<style scoped>\n",
       "    .dataframe tbody tr th:only-of-type {\n",
       "        vertical-align: middle;\n",
       "    }\n",
       "\n",
       "    .dataframe tbody tr th {\n",
       "        vertical-align: top;\n",
       "    }\n",
       "\n",
       "    .dataframe thead th {\n",
       "        text-align: right;\n",
       "    }\n",
       "</style>\n",
       "<table border=\"1\" class=\"dataframe\">\n",
       "  <thead>\n",
       "    <tr style=\"text-align: right;\">\n",
       "      <th></th>\n",
       "      <th>car_ID</th>\n",
       "      <th>symboling</th>\n",
       "      <th>wheelbase</th>\n",
       "      <th>carlength</th>\n",
       "      <th>carwidth</th>\n",
       "      <th>carheight</th>\n",
       "      <th>curbweight</th>\n",
       "      <th>enginesize</th>\n",
       "      <th>boreratio</th>\n",
       "      <th>stroke</th>\n",
       "      <th>compressionratio</th>\n",
       "      <th>horsepower</th>\n",
       "      <th>peakrpm</th>\n",
       "      <th>citympg</th>\n",
       "      <th>highwaympg</th>\n",
       "      <th>price</th>\n",
       "    </tr>\n",
       "  </thead>\n",
       "  <tbody>\n",
       "    <tr>\n",
       "      <th>count</th>\n",
       "      <td>205.000000</td>\n",
       "      <td>205.000000</td>\n",
       "      <td>205.000000</td>\n",
       "      <td>205.000000</td>\n",
       "      <td>205.000000</td>\n",
       "      <td>205.000000</td>\n",
       "      <td>205.000000</td>\n",
       "      <td>205.000000</td>\n",
       "      <td>205.000000</td>\n",
       "      <td>205.000000</td>\n",
       "      <td>205.000000</td>\n",
       "      <td>205.000000</td>\n",
       "      <td>205.000000</td>\n",
       "      <td>205.000000</td>\n",
       "      <td>205.000000</td>\n",
       "      <td>205.000000</td>\n",
       "    </tr>\n",
       "    <tr>\n",
       "      <th>mean</th>\n",
       "      <td>103.000000</td>\n",
       "      <td>0.834146</td>\n",
       "      <td>98.756585</td>\n",
       "      <td>174.049268</td>\n",
       "      <td>65.907805</td>\n",
       "      <td>53.724878</td>\n",
       "      <td>2555.565854</td>\n",
       "      <td>126.907317</td>\n",
       "      <td>3.329756</td>\n",
       "      <td>3.255415</td>\n",
       "      <td>10.142537</td>\n",
       "      <td>104.117073</td>\n",
       "      <td>5125.121951</td>\n",
       "      <td>25.219512</td>\n",
       "      <td>30.751220</td>\n",
       "      <td>13276.710571</td>\n",
       "    </tr>\n",
       "    <tr>\n",
       "      <th>std</th>\n",
       "      <td>59.322565</td>\n",
       "      <td>1.245307</td>\n",
       "      <td>6.021776</td>\n",
       "      <td>12.337289</td>\n",
       "      <td>2.145204</td>\n",
       "      <td>2.443522</td>\n",
       "      <td>520.680204</td>\n",
       "      <td>41.642693</td>\n",
       "      <td>0.270844</td>\n",
       "      <td>0.313597</td>\n",
       "      <td>3.972040</td>\n",
       "      <td>39.544167</td>\n",
       "      <td>476.985643</td>\n",
       "      <td>6.542142</td>\n",
       "      <td>6.886443</td>\n",
       "      <td>7988.852332</td>\n",
       "    </tr>\n",
       "    <tr>\n",
       "      <th>min</th>\n",
       "      <td>1.000000</td>\n",
       "      <td>-2.000000</td>\n",
       "      <td>86.600000</td>\n",
       "      <td>141.100000</td>\n",
       "      <td>60.300000</td>\n",
       "      <td>47.800000</td>\n",
       "      <td>1488.000000</td>\n",
       "      <td>61.000000</td>\n",
       "      <td>2.540000</td>\n",
       "      <td>2.070000</td>\n",
       "      <td>7.000000</td>\n",
       "      <td>48.000000</td>\n",
       "      <td>4150.000000</td>\n",
       "      <td>13.000000</td>\n",
       "      <td>16.000000</td>\n",
       "      <td>5118.000000</td>\n",
       "    </tr>\n",
       "    <tr>\n",
       "      <th>25%</th>\n",
       "      <td>52.000000</td>\n",
       "      <td>0.000000</td>\n",
       "      <td>94.500000</td>\n",
       "      <td>166.300000</td>\n",
       "      <td>64.100000</td>\n",
       "      <td>52.000000</td>\n",
       "      <td>2145.000000</td>\n",
       "      <td>97.000000</td>\n",
       "      <td>3.150000</td>\n",
       "      <td>3.110000</td>\n",
       "      <td>8.600000</td>\n",
       "      <td>70.000000</td>\n",
       "      <td>4800.000000</td>\n",
       "      <td>19.000000</td>\n",
       "      <td>25.000000</td>\n",
       "      <td>7788.000000</td>\n",
       "    </tr>\n",
       "    <tr>\n",
       "      <th>50%</th>\n",
       "      <td>103.000000</td>\n",
       "      <td>1.000000</td>\n",
       "      <td>97.000000</td>\n",
       "      <td>173.200000</td>\n",
       "      <td>65.500000</td>\n",
       "      <td>54.100000</td>\n",
       "      <td>2414.000000</td>\n",
       "      <td>120.000000</td>\n",
       "      <td>3.310000</td>\n",
       "      <td>3.290000</td>\n",
       "      <td>9.000000</td>\n",
       "      <td>95.000000</td>\n",
       "      <td>5200.000000</td>\n",
       "      <td>24.000000</td>\n",
       "      <td>30.000000</td>\n",
       "      <td>10295.000000</td>\n",
       "    </tr>\n",
       "    <tr>\n",
       "      <th>75%</th>\n",
       "      <td>154.000000</td>\n",
       "      <td>2.000000</td>\n",
       "      <td>102.400000</td>\n",
       "      <td>183.100000</td>\n",
       "      <td>66.900000</td>\n",
       "      <td>55.500000</td>\n",
       "      <td>2935.000000</td>\n",
       "      <td>141.000000</td>\n",
       "      <td>3.580000</td>\n",
       "      <td>3.410000</td>\n",
       "      <td>9.400000</td>\n",
       "      <td>116.000000</td>\n",
       "      <td>5500.000000</td>\n",
       "      <td>30.000000</td>\n",
       "      <td>34.000000</td>\n",
       "      <td>16503.000000</td>\n",
       "    </tr>\n",
       "    <tr>\n",
       "      <th>max</th>\n",
       "      <td>205.000000</td>\n",
       "      <td>3.000000</td>\n",
       "      <td>120.900000</td>\n",
       "      <td>208.100000</td>\n",
       "      <td>72.300000</td>\n",
       "      <td>59.800000</td>\n",
       "      <td>4066.000000</td>\n",
       "      <td>326.000000</td>\n",
       "      <td>3.940000</td>\n",
       "      <td>4.170000</td>\n",
       "      <td>23.000000</td>\n",
       "      <td>288.000000</td>\n",
       "      <td>6600.000000</td>\n",
       "      <td>49.000000</td>\n",
       "      <td>54.000000</td>\n",
       "      <td>45400.000000</td>\n",
       "    </tr>\n",
       "  </tbody>\n",
       "</table>\n",
       "</div>"
      ],
      "text/plain": [
       "           car_ID   symboling   wheelbase   carlength    carwidth   carheight  \\\n",
       "count  205.000000  205.000000  205.000000  205.000000  205.000000  205.000000   \n",
       "mean   103.000000    0.834146   98.756585  174.049268   65.907805   53.724878   \n",
       "std     59.322565    1.245307    6.021776   12.337289    2.145204    2.443522   \n",
       "min      1.000000   -2.000000   86.600000  141.100000   60.300000   47.800000   \n",
       "25%     52.000000    0.000000   94.500000  166.300000   64.100000   52.000000   \n",
       "50%    103.000000    1.000000   97.000000  173.200000   65.500000   54.100000   \n",
       "75%    154.000000    2.000000  102.400000  183.100000   66.900000   55.500000   \n",
       "max    205.000000    3.000000  120.900000  208.100000   72.300000   59.800000   \n",
       "\n",
       "        curbweight  enginesize   boreratio      stroke  compressionratio  \\\n",
       "count   205.000000  205.000000  205.000000  205.000000        205.000000   \n",
       "mean   2555.565854  126.907317    3.329756    3.255415         10.142537   \n",
       "std     520.680204   41.642693    0.270844    0.313597          3.972040   \n",
       "min    1488.000000   61.000000    2.540000    2.070000          7.000000   \n",
       "25%    2145.000000   97.000000    3.150000    3.110000          8.600000   \n",
       "50%    2414.000000  120.000000    3.310000    3.290000          9.000000   \n",
       "75%    2935.000000  141.000000    3.580000    3.410000          9.400000   \n",
       "max    4066.000000  326.000000    3.940000    4.170000         23.000000   \n",
       "\n",
       "       horsepower      peakrpm     citympg  highwaympg         price  \n",
       "count  205.000000   205.000000  205.000000  205.000000    205.000000  \n",
       "mean   104.117073  5125.121951   25.219512   30.751220  13276.710571  \n",
       "std     39.544167   476.985643    6.542142    6.886443   7988.852332  \n",
       "min     48.000000  4150.000000   13.000000   16.000000   5118.000000  \n",
       "25%     70.000000  4800.000000   19.000000   25.000000   7788.000000  \n",
       "50%     95.000000  5200.000000   24.000000   30.000000  10295.000000  \n",
       "75%    116.000000  5500.000000   30.000000   34.000000  16503.000000  \n",
       "max    288.000000  6600.000000   49.000000   54.000000  45400.000000  "
      ]
     },
     "execution_count": 5,
     "metadata": {},
     "output_type": "execute_result"
    }
   ],
   "source": [
    "# Checking summary statistics of car_train\n",
    "car_df.describe()"
   ]
  },
  {
   "cell_type": "code",
   "execution_count": 6,
   "metadata": {},
   "outputs": [
    {
     "data": {
      "text/plain": [
       "<matplotlib.axes._subplots.AxesSubplot at 0xc9c4080>"
      ]
     },
     "execution_count": 6,
     "metadata": {},
     "output_type": "execute_result"
    },
    {
     "data": {
      "image/png": "[encoded data removed]",
      "text/plain": [
       "<Figure size 720x576 with 2 Axes>"
      ]
     },
     "metadata": {
      "needs_background": "light"
     },
     "output_type": "display_data"
    }
   ],
   "source": [
    "# Checking correlation between numerical variables\n",
    "plt.figure(figsize = (10,8))\n",
    "sns.heatmap(car_df.corr(),annot = True, cmap=\"coolwarm\")"
   ]
  },
  {
   "cell_type": "markdown",
   "metadata": {},
   "source": [
    "# Data Cleaning"
   ]
  },
  {
   "cell_type": "code",
   "execution_count": 7,
   "metadata": {},
   "outputs": [
    {
     "name": "stdout",
     "output_type": "stream",
     "text": [
      "List of columns with unique-values : ['car_ID']\n"
     ]
    }
   ],
   "source": [
    "# Checking uniqueness of all the columns\n",
    "car_df_columns = []\n",
    "for x in car_df.columns.to_list():\n",
    "    if len(car_df[x].unique()) == len(car_df[x]):\n",
    "        car_df_columns.append(x)\n",
    "    else:\n",
    "        pass\n",
    "print(\"List of columns with unique-values : {}\".format(car_df_columns))"
   ]
  },
  {
   "cell_type": "code",
   "execution_count": 8,
   "metadata": {},
   "outputs": [],
   "source": [
    "# Removing columns with unique-values\n",
    "car_df = car_df.drop(car_df_columns, axis=1)"
   ]
  },
  {
   "cell_type": "code",
   "execution_count": 9,
   "metadata": {},
   "outputs": [
    {
     "name": "stdout",
     "output_type": "stream",
     "text": [
      "List of columns with leading or trailing whitespace: []\n"
     ]
    }
   ],
   "source": [
    "# Checking if there is any leading or trailing whitespace in the name of columns\n",
    "columns_with_space = []\n",
    "for x in car_df.columns.to_list():\n",
    "    if x[0] == \" \" or x[-1] == \" \":\n",
    "        columns_with_space.append(x)\n",
    "print(\"List of columns with leading or trailing whitespace: {}\".format(columns_with_space))        "
   ]
  },
  {
   "cell_type": "code",
   "execution_count": 10,
   "metadata": {},
   "outputs": [
    {
     "data": {
      "text/plain": [
       "symboling           0.0\n",
       "CarName             0.0\n",
       "fueltype            0.0\n",
       "aspiration          0.0\n",
       "doornumber          0.0\n",
       "carbody             0.0\n",
       "drivewheel          0.0\n",
       "enginelocation      0.0\n",
       "wheelbase           0.0\n",
       "carlength           0.0\n",
       "carwidth            0.0\n",
       "carheight           0.0\n",
       "curbweight          0.0\n",
       "enginetype          0.0\n",
       "cylindernumber      0.0\n",
       "enginesize          0.0\n",
       "fuelsystem          0.0\n",
       "boreratio           0.0\n",
       "stroke              0.0\n",
       "compressionratio    0.0\n",
       "horsepower          0.0\n",
       "peakrpm             0.0\n",
       "citympg             0.0\n",
       "highwaympg          0.0\n",
       "price               0.0\n",
       "dtype: float64"
      ]
     },
     "execution_count": 10,
     "metadata": {},
     "output_type": "execute_result"
    }
   ],
   "source": [
    "# Checking if there is any missing value in the dataframe \"car_df\"\n",
    "round(100*(car_df.isnull().sum()/len(car_df.index)), 2)"
   ]
  },
  {
   "cell_type": "code",
   "execution_count": 11,
   "metadata": {},
   "outputs": [
    {
     "name": "stdout",
     "output_type": "stream",
     "text": [
      "List of values of dataframe which has leading or trailing whitespace\n",
      "44: CarName: 'isuzu D-Max '\n",
      "46: CarName: 'isuzu D-Max '\n"
     ]
    }
   ],
   "source": [
    "# Checking if there is any leading or trailing whitespace in the values of dataframe \"car_df\"\n",
    "print(\"List of values of dataframe which has leading or trailing whitespace\") \n",
    "car_df_values = []\n",
    "car_df_cols = {}\n",
    "for x in car_df.columns.to_list():\n",
    "    if car_df[x].dtype == \"O\":\n",
    "        for i in range(len(car_df.index)):\n",
    "            if car_df[x][i][0] == \" \" or car_df[x][i][-1] == \" \":\n",
    "                print(\"{}: {}: '{}'\".format(i, x, car_df[x][i]))"
   ]
  },
  {
   "cell_type": "code",
   "execution_count": 12,
   "metadata": {},
   "outputs": [],
   "source": [
    "# Removing leading or trailing whitespace from values of dataframe \"car_df\n",
    "car_df[\"CarName\"] = car_df[\"CarName\"].replace({\"isuzu D-Max \":\"isuzu D-Max\"})"
   ]
  },
  {
   "cell_type": "code",
   "execution_count": 13,
   "metadata": {},
   "outputs": [
    {
     "data": {
      "text/plain": [
       "0    alfa-romero\n",
       "1    alfa-romero\n",
       "2    alfa-romero\n",
       "3           audi\n",
       "4           audi\n",
       "5           audi\n",
       "6           audi\n",
       "7           audi\n",
       "8           audi\n",
       "9           audi\n",
       "Name: CompanyName, dtype: object"
      ]
     },
     "execution_count": 13,
     "metadata": {},
     "output_type": "execute_result"
    }
   ],
   "source": [
    "# Splitting column \"CarName\" to extract only compnay names and creating new column \"CompanyName\"\n",
    "car_df[\"CompanyName\"] = car_df[\"CarName\"].apply(lambda x : str(x).split(\" \")[0].lower())\n",
    "car_df[\"CompanyName\"].head(10)"
   ]
  },
  {
   "cell_type": "code",
   "execution_count": 14,
   "metadata": {},
   "outputs": [
    {
     "data": {
      "text/plain": [
       "toyota         31\n",
       "nissan         18\n",
       "mazda          15\n",
       "mitsubishi     13\n",
       "honda          13\n",
       "subaru         12\n",
       "peugeot        11\n",
       "volvo          11\n",
       "volkswagen      9\n",
       "dodge           9\n",
       "buick           8\n",
       "bmw             8\n",
       "audi            7\n",
       "plymouth        7\n",
       "saab            6\n",
       "porsche         4\n",
       "isuzu           4\n",
       "alfa-romero     3\n",
       "chevrolet       3\n",
       "jaguar          3\n",
       "vw              2\n",
       "renault         2\n",
       "maxda           2\n",
       "mercury         1\n",
       "toyouta         1\n",
       "vokswagen       1\n",
       "porcshce        1\n",
       "Name: CompanyName, dtype: int64"
      ]
     },
     "execution_count": 14,
     "metadata": {},
     "output_type": "execute_result"
    }
   ],
   "source": [
    "# Checking values of \"CompanyName\"\n",
    "car_df[\"CompanyName\"].value_counts()"
   ]
  },
  {
   "cell_type": "code",
   "execution_count": 15,
   "metadata": {},
   "outputs": [],
   "source": [
    "# Correcting spelling mistakes in column \"CompanyName\"\n",
    "car_df[\"CompanyName\"] = car_df[\"CompanyName\"].replace({\"toyouta\":\"toyota\", \"vw\":\"volkswagen\", \"vokswagen\":\"volkswagen\", \"maxda\":\"mazda\", \"porcshce\":\"porsche\", \"alfa-romero\":\"alfa-romeo\"})"
   ]
  },
  {
   "cell_type": "code",
   "execution_count": 16,
   "metadata": {},
   "outputs": [],
   "source": [
    "# Dropping column \"CarName\"\n",
    "car_df =  car_df.drop([\"CarName\"], axis=1)"
   ]
  },
  {
   "cell_type": "code",
   "execution_count": 17,
   "metadata": {},
   "outputs": [
    {
     "data": {
      "text/plain": [
       "False"
      ]
     },
     "execution_count": 17,
     "metadata": {},
     "output_type": "execute_result"
    }
   ],
   "source": [
    "# Checking duplicated rows in the dataframe \"car_df\"\n",
    "car_df.duplicated().any()"
   ]
  },
  {
   "cell_type": "markdown",
   "metadata": {},
   "source": [
    "# Visulaising Data"
   ]
  },
  {
   "cell_type": "code",
   "execution_count": 18,
   "metadata": {},
   "outputs": [
    {
     "data": {
      "text/plain": [
       "<seaborn.axisgrid.PairGrid at 0xd156208>"
      ]
     },
     "execution_count": 18,
     "metadata": {},
     "output_type": "execute_result"
    },
    {
     "data": {
      "image/png": "[encoded data removed]",
      "text/plain": [
       "<Figure size 2116.8x216 with 14 Axes>"
      ]
     },
     "metadata": {
      "needs_background": "light"
     },
     "output_type": "display_data"
    }
   ],
   "source": [
    "# Visualising Numeric Variables \"symboling\", \"wheelbase\", \"carlength\", \"carwidth\", \"carheight\", \"curbweight\", \"enginesize\", \"boreratio\", \"stroke\", \"compressionratio\", \"horsepower\", \"peakrpm\", \"citympg\" and \"highwaympg\"\n",
    "sns.pairplot(car_df, x_vars=[\"symboling\", \"wheelbase\", \"carlength\", \"carwidth\", \"carheight\", \"curbweight\", \"enginesize\", \"boreratio\", \"stroke\", \"compressionratio\", \"horsepower\", \"peakrpm\", \"citympg\", \"highwaympg\"], y_vars='price', size=3, aspect=0.7, kind='scatter')"
   ]
  },
  {
   "cell_type": "markdown",
   "metadata": {},
   "source": [
    "According to above graphs, we can say that dependent variable(price) has linear relatioship with some numeric variables."
   ]
  },
  {
   "cell_type": "code",
   "execution_count": 19,
   "metadata": {},
   "outputs": [
    {
     "data": {
      "text/plain": [
       "<matplotlib.axes._subplots.AxesSubplot at 0xa352438>"
      ]
     },
     "execution_count": 19,
     "metadata": {},
     "output_type": "execute_result"
    },
    {
     "data": {
      "image/png": "[encoded data removed]",
      "text/plain": [
       "<Figure size 1080x1080 with 9 Axes>"
      ]
     },
     "metadata": {
      "needs_background": "light"
     },
     "output_type": "display_data"
    }
   ],
   "source": [
    "# Visualising Categorical Variables fueltype, aspiration, doornumber, carbody, drivewheel, enginelocation, enginetype, cylindernumber and fuelsystem\n",
    "plt.figure(figsize=(15, 15))\n",
    "plt.subplot(3, 3, 1)\n",
    "sns.boxplot(x=\"fueltype\", y=\"price\", data=car_df)\n",
    "plt.subplot(3, 3, 2)\n",
    "sns.boxplot(x=\"aspiration\", y=\"price\", data=car_df)\n",
    "plt.subplot(3, 3, 3)\n",
    "sns.boxplot(x=\"doornumber\", y=\"price\", data=car_df)\n",
    "plt.subplot(3, 3, 4)\n",
    "sns.boxplot(x=\"carbody\", y=\"price\", data=car_df)\n",
    "plt.subplot(3, 3, 5)\n",
    "sns.boxplot(x=\"drivewheel\", y=\"price\", data=car_df)\n",
    "plt.subplot(3, 3, 6)\n",
    "sns.boxplot(x=\"enginelocation\", y=\"price\", data=car_df)\n",
    "plt.subplot(3, 3, 7)\n",
    "sns.boxplot(x=\"enginetype\", y=\"price\", data=car_df)\n",
    "plt.subplot(3, 3, 8)\n",
    "sns.boxplot(x=\"cylindernumber\", y=\"price\", data=car_df)\n",
    "plt.subplot(3, 3, 9)\n",
    "sns.boxplot(x=\"fuelsystem\", y=\"price\", data=car_df)"
   ]
  },
  {
   "cell_type": "markdown",
   "metadata": {},
   "source": [
    "According to above graphs, we can say that there is difference in price across different levels of some categorical variables."
   ]
  },
  {
   "cell_type": "code",
   "execution_count": 20,
   "metadata": {},
   "outputs": [
    {
     "data": {
      "text/html": [
       "<div>\n",
       "<style scoped>\n",
       "    .dataframe tbody tr th:only-of-type {\n",
       "        vertical-align: middle;\n",
       "    }\n",
       "\n",
       "    .dataframe tbody tr th {\n",
       "        vertical-align: top;\n",
       "    }\n",
       "\n",
       "    .dataframe thead th {\n",
       "        text-align: right;\n",
       "    }\n",
       "</style>\n",
       "<table border=\"1\" class=\"dataframe\">\n",
       "  <thead>\n",
       "    <tr style=\"text-align: right;\">\n",
       "      <th></th>\n",
       "      <th>symboling</th>\n",
       "      <th>fueltype</th>\n",
       "      <th>aspiration</th>\n",
       "      <th>doornumber</th>\n",
       "      <th>carbody</th>\n",
       "      <th>drivewheel</th>\n",
       "      <th>enginelocation</th>\n",
       "      <th>wheelbase</th>\n",
       "      <th>carlength</th>\n",
       "      <th>carwidth</th>\n",
       "      <th>...</th>\n",
       "      <th>fuelsystem</th>\n",
       "      <th>boreratio</th>\n",
       "      <th>stroke</th>\n",
       "      <th>compressionratio</th>\n",
       "      <th>horsepower</th>\n",
       "      <th>peakrpm</th>\n",
       "      <th>citympg</th>\n",
       "      <th>highwaympg</th>\n",
       "      <th>price</th>\n",
       "      <th>CompanyName</th>\n",
       "    </tr>\n",
       "  </thead>\n",
       "  <tbody>\n",
       "    <tr>\n",
       "      <th>0</th>\n",
       "      <td>3</td>\n",
       "      <td>0</td>\n",
       "      <td>0</td>\n",
       "      <td>0</td>\n",
       "      <td>convertible</td>\n",
       "      <td>rwd</td>\n",
       "      <td>0</td>\n",
       "      <td>88.6</td>\n",
       "      <td>168.8</td>\n",
       "      <td>64.1</td>\n",
       "      <td>...</td>\n",
       "      <td>mpfi</td>\n",
       "      <td>3.47</td>\n",
       "      <td>2.68</td>\n",
       "      <td>9.0</td>\n",
       "      <td>111</td>\n",
       "      <td>5000</td>\n",
       "      <td>21</td>\n",
       "      <td>27</td>\n",
       "      <td>13495.0</td>\n",
       "      <td>alfa-romeo</td>\n",
       "    </tr>\n",
       "    <tr>\n",
       "      <th>1</th>\n",
       "      <td>3</td>\n",
       "      <td>0</td>\n",
       "      <td>0</td>\n",
       "      <td>0</td>\n",
       "      <td>convertible</td>\n",
       "      <td>rwd</td>\n",
       "      <td>0</td>\n",
       "      <td>88.6</td>\n",
       "      <td>168.8</td>\n",
       "      <td>64.1</td>\n",
       "      <td>...</td>\n",
       "      <td>mpfi</td>\n",
       "      <td>3.47</td>\n",
       "      <td>2.68</td>\n",
       "      <td>9.0</td>\n",
       "      <td>111</td>\n",
       "      <td>5000</td>\n",
       "      <td>21</td>\n",
       "      <td>27</td>\n",
       "      <td>16500.0</td>\n",
       "      <td>alfa-romeo</td>\n",
       "    </tr>\n",
       "    <tr>\n",
       "      <th>2</th>\n",
       "      <td>1</td>\n",
       "      <td>0</td>\n",
       "      <td>0</td>\n",
       "      <td>0</td>\n",
       "      <td>hatchback</td>\n",
       "      <td>rwd</td>\n",
       "      <td>0</td>\n",
       "      <td>94.5</td>\n",
       "      <td>171.2</td>\n",
       "      <td>65.5</td>\n",
       "      <td>...</td>\n",
       "      <td>mpfi</td>\n",
       "      <td>2.68</td>\n",
       "      <td>3.47</td>\n",
       "      <td>9.0</td>\n",
       "      <td>154</td>\n",
       "      <td>5000</td>\n",
       "      <td>19</td>\n",
       "      <td>26</td>\n",
       "      <td>16500.0</td>\n",
       "      <td>alfa-romeo</td>\n",
       "    </tr>\n",
       "    <tr>\n",
       "      <th>3</th>\n",
       "      <td>2</td>\n",
       "      <td>0</td>\n",
       "      <td>0</td>\n",
       "      <td>1</td>\n",
       "      <td>sedan</td>\n",
       "      <td>fwd</td>\n",
       "      <td>0</td>\n",
       "      <td>99.8</td>\n",
       "      <td>176.6</td>\n",
       "      <td>66.2</td>\n",
       "      <td>...</td>\n",
       "      <td>mpfi</td>\n",
       "      <td>3.19</td>\n",
       "      <td>3.40</td>\n",
       "      <td>10.0</td>\n",
       "      <td>102</td>\n",
       "      <td>5500</td>\n",
       "      <td>24</td>\n",
       "      <td>30</td>\n",
       "      <td>13950.0</td>\n",
       "      <td>audi</td>\n",
       "    </tr>\n",
       "    <tr>\n",
       "      <th>4</th>\n",
       "      <td>2</td>\n",
       "      <td>0</td>\n",
       "      <td>0</td>\n",
       "      <td>1</td>\n",
       "      <td>sedan</td>\n",
       "      <td>4wd</td>\n",
       "      <td>0</td>\n",
       "      <td>99.4</td>\n",
       "      <td>176.6</td>\n",
       "      <td>66.4</td>\n",
       "      <td>...</td>\n",
       "      <td>mpfi</td>\n",
       "      <td>3.19</td>\n",
       "      <td>3.40</td>\n",
       "      <td>8.0</td>\n",
       "      <td>115</td>\n",
       "      <td>5500</td>\n",
       "      <td>18</td>\n",
       "      <td>22</td>\n",
       "      <td>17450.0</td>\n",
       "      <td>audi</td>\n",
       "    </tr>\n",
       "  </tbody>\n",
       "</table>\n",
       "<p>5 rows × 25 columns</p>\n",
       "</div>"
      ],
      "text/plain": [
       "   symboling  fueltype  aspiration  doornumber      carbody drivewheel  \\\n",
       "0          3         0           0           0  convertible        rwd   \n",
       "1          3         0           0           0  convertible        rwd   \n",
       "2          1         0           0           0    hatchback        rwd   \n",
       "3          2         0           0           1        sedan        fwd   \n",
       "4          2         0           0           1        sedan        4wd   \n",
       "\n",
       "   enginelocation  wheelbase  carlength  carwidth  ...  fuelsystem  boreratio  \\\n",
       "0               0       88.6      168.8      64.1  ...        mpfi       3.47   \n",
       "1               0       88.6      168.8      64.1  ...        mpfi       3.47   \n",
       "2               0       94.5      171.2      65.5  ...        mpfi       2.68   \n",
       "3               0       99.8      176.6      66.2  ...        mpfi       3.19   \n",
       "4               0       99.4      176.6      66.4  ...        mpfi       3.19   \n",
       "\n",
       "  stroke compressionratio  horsepower peakrpm  citympg  highwaympg    price  \\\n",
       "0   2.68              9.0         111    5000       21          27  13495.0   \n",
       "1   2.68              9.0         111    5000       21          27  16500.0   \n",
       "2   3.47              9.0         154    5000       19          26  16500.0   \n",
       "3   3.40             10.0         102    5500       24          30  13950.0   \n",
       "4   3.40              8.0         115    5500       18          22  17450.0   \n",
       "\n",
       "   CompanyName  \n",
       "0   alfa-romeo  \n",
       "1   alfa-romeo  \n",
       "2   alfa-romeo  \n",
       "3         audi  \n",
       "4         audi  \n",
       "\n",
       "[5 rows x 25 columns]"
      ]
     },
     "execution_count": 20,
     "metadata": {},
     "output_type": "execute_result"
    }
   ],
   "source": [
    "# Doing binary mapping for categorical variables with two levels\n",
    "car_df[\"fueltype\"] = car_df[\"fueltype\"].map({\"gas\": 0, \"diesel\": 1})\n",
    "car_df[\"aspiration\"] = car_df[\"aspiration\"].map({\"std\": 0, \"turbo\": 1})\n",
    "car_df[\"doornumber\"] = car_df[\"doornumber\"].map({\"two\": 0, \"four\": 1})\n",
    "car_df[\"enginelocation\"] = car_df[\"enginelocation\"].map({\"front\": 0, \"rear\": 1})\n",
    "car_df.head()"
   ]
  },
  {
   "cell_type": "code",
   "execution_count": 21,
   "metadata": {},
   "outputs": [],
   "source": [
    "# Doing dummy encoding for categorical variables with more than two levels\n",
    "var_dummies = pd.get_dummies(car_df[[\"CompanyName\", \"carbody\", \"drivewheel\", \"enginetype\", \"cylindernumber\", \"fuelsystem\"]], drop_first=True)\n",
    "car_df = pd.concat([car_df, var_dummies], axis=1)"
   ]
  },
  {
   "cell_type": "code",
   "execution_count": 22,
   "metadata": {},
   "outputs": [],
   "source": [
    "# Dropping categorical variables which was used for dummy encoding\n",
    "car_df =  car_df.drop([\"CompanyName\", \"carbody\", \"drivewheel\", \"enginetype\", \"cylindernumber\", \"fuelsystem\"], axis=1)"
   ]
  },
  {
   "cell_type": "code",
   "execution_count": 23,
   "metadata": {},
   "outputs": [
    {
     "data": {
      "text/html": [
       "<div>\n",
       "<style scoped>\n",
       "    .dataframe tbody tr th:only-of-type {\n",
       "        vertical-align: middle;\n",
       "    }\n",
       "\n",
       "    .dataframe tbody tr th {\n",
       "        vertical-align: top;\n",
       "    }\n",
       "\n",
       "    .dataframe thead th {\n",
       "        text-align: right;\n",
       "    }\n",
       "</style>\n",
       "<table border=\"1\" class=\"dataframe\">\n",
       "  <thead>\n",
       "    <tr style=\"text-align: right;\">\n",
       "      <th></th>\n",
       "      <th>symboling</th>\n",
       "      <th>fueltype</th>\n",
       "      <th>aspiration</th>\n",
       "      <th>doornumber</th>\n",
       "      <th>enginelocation</th>\n",
       "      <th>wheelbase</th>\n",
       "      <th>carlength</th>\n",
       "      <th>carwidth</th>\n",
       "      <th>carheight</th>\n",
       "      <th>curbweight</th>\n",
       "      <th>...</th>\n",
       "      <th>cylindernumber_three</th>\n",
       "      <th>cylindernumber_twelve</th>\n",
       "      <th>cylindernumber_two</th>\n",
       "      <th>fuelsystem_2bbl</th>\n",
       "      <th>fuelsystem_4bbl</th>\n",
       "      <th>fuelsystem_idi</th>\n",
       "      <th>fuelsystem_mfi</th>\n",
       "      <th>fuelsystem_mpfi</th>\n",
       "      <th>fuelsystem_spdi</th>\n",
       "      <th>fuelsystem_spfi</th>\n",
       "    </tr>\n",
       "  </thead>\n",
       "  <tbody>\n",
       "    <tr>\n",
       "      <th>0</th>\n",
       "      <td>3</td>\n",
       "      <td>0</td>\n",
       "      <td>0</td>\n",
       "      <td>0</td>\n",
       "      <td>0</td>\n",
       "      <td>88.6</td>\n",
       "      <td>168.8</td>\n",
       "      <td>64.1</td>\n",
       "      <td>48.8</td>\n",
       "      <td>2548</td>\n",
       "      <td>...</td>\n",
       "      <td>0</td>\n",
       "      <td>0</td>\n",
       "      <td>0</td>\n",
       "      <td>0</td>\n",
       "      <td>0</td>\n",
       "      <td>0</td>\n",
       "      <td>0</td>\n",
       "      <td>1</td>\n",
       "      <td>0</td>\n",
       "      <td>0</td>\n",
       "    </tr>\n",
       "    <tr>\n",
       "      <th>1</th>\n",
       "      <td>3</td>\n",
       "      <td>0</td>\n",
       "      <td>0</td>\n",
       "      <td>0</td>\n",
       "      <td>0</td>\n",
       "      <td>88.6</td>\n",
       "      <td>168.8</td>\n",
       "      <td>64.1</td>\n",
       "      <td>48.8</td>\n",
       "      <td>2548</td>\n",
       "      <td>...</td>\n",
       "      <td>0</td>\n",
       "      <td>0</td>\n",
       "      <td>0</td>\n",
       "      <td>0</td>\n",
       "      <td>0</td>\n",
       "      <td>0</td>\n",
       "      <td>0</td>\n",
       "      <td>1</td>\n",
       "      <td>0</td>\n",
       "      <td>0</td>\n",
       "    </tr>\n",
       "    <tr>\n",
       "      <th>2</th>\n",
       "      <td>1</td>\n",
       "      <td>0</td>\n",
       "      <td>0</td>\n",
       "      <td>0</td>\n",
       "      <td>0</td>\n",
       "      <td>94.5</td>\n",
       "      <td>171.2</td>\n",
       "      <td>65.5</td>\n",
       "      <td>52.4</td>\n",
       "      <td>2823</td>\n",
       "      <td>...</td>\n",
       "      <td>0</td>\n",
       "      <td>0</td>\n",
       "      <td>0</td>\n",
       "      <td>0</td>\n",
       "      <td>0</td>\n",
       "      <td>0</td>\n",
       "      <td>0</td>\n",
       "      <td>1</td>\n",
       "      <td>0</td>\n",
       "      <td>0</td>\n",
       "    </tr>\n",
       "    <tr>\n",
       "      <th>3</th>\n",
       "      <td>2</td>\n",
       "      <td>0</td>\n",
       "      <td>0</td>\n",
       "      <td>1</td>\n",
       "      <td>0</td>\n",
       "      <td>99.8</td>\n",
       "      <td>176.6</td>\n",
       "      <td>66.2</td>\n",
       "      <td>54.3</td>\n",
       "      <td>2337</td>\n",
       "      <td>...</td>\n",
       "      <td>0</td>\n",
       "      <td>0</td>\n",
       "      <td>0</td>\n",
       "      <td>0</td>\n",
       "      <td>0</td>\n",
       "      <td>0</td>\n",
       "      <td>0</td>\n",
       "      <td>1</td>\n",
       "      <td>0</td>\n",
       "      <td>0</td>\n",
       "    </tr>\n",
       "    <tr>\n",
       "      <th>4</th>\n",
       "      <td>2</td>\n",
       "      <td>0</td>\n",
       "      <td>0</td>\n",
       "      <td>1</td>\n",
       "      <td>0</td>\n",
       "      <td>99.4</td>\n",
       "      <td>176.6</td>\n",
       "      <td>66.4</td>\n",
       "      <td>54.3</td>\n",
       "      <td>2824</td>\n",
       "      <td>...</td>\n",
       "      <td>0</td>\n",
       "      <td>0</td>\n",
       "      <td>0</td>\n",
       "      <td>0</td>\n",
       "      <td>0</td>\n",
       "      <td>0</td>\n",
       "      <td>0</td>\n",
       "      <td>1</td>\n",
       "      <td>0</td>\n",
       "      <td>0</td>\n",
       "    </tr>\n",
       "  </tbody>\n",
       "</table>\n",
       "<p>5 rows × 65 columns</p>\n",
       "</div>"
      ],
      "text/plain": [
       "   symboling  fueltype  aspiration  doornumber  enginelocation  wheelbase  \\\n",
       "0          3         0           0           0               0       88.6   \n",
       "1          3         0           0           0               0       88.6   \n",
       "2          1         0           0           0               0       94.5   \n",
       "3          2         0           0           1               0       99.8   \n",
       "4          2         0           0           1               0       99.4   \n",
       "\n",
       "   carlength  carwidth  carheight  curbweight  ...  cylindernumber_three  \\\n",
       "0      168.8      64.1       48.8        2548  ...                     0   \n",
       "1      168.8      64.1       48.8        2548  ...                     0   \n",
       "2      171.2      65.5       52.4        2823  ...                     0   \n",
       "3      176.6      66.2       54.3        2337  ...                     0   \n",
       "4      176.6      66.4       54.3        2824  ...                     0   \n",
       "\n",
       "   cylindernumber_twelve  cylindernumber_two  fuelsystem_2bbl  \\\n",
       "0                      0                   0                0   \n",
       "1                      0                   0                0   \n",
       "2                      0                   0                0   \n",
       "3                      0                   0                0   \n",
       "4                      0                   0                0   \n",
       "\n",
       "   fuelsystem_4bbl  fuelsystem_idi  fuelsystem_mfi  fuelsystem_mpfi  \\\n",
       "0                0               0               0                1   \n",
       "1                0               0               0                1   \n",
       "2                0               0               0                1   \n",
       "3                0               0               0                1   \n",
       "4                0               0               0                1   \n",
       "\n",
       "   fuelsystem_spdi  fuelsystem_spfi  \n",
       "0                0                0  \n",
       "1                0                0  \n",
       "2                0                0  \n",
       "3                0                0  \n",
       "4                0                0  \n",
       "\n",
       "[5 rows x 65 columns]"
      ]
     },
     "execution_count": 23,
     "metadata": {},
     "output_type": "execute_result"
    }
   ],
   "source": [
    "car_df.head()"
   ]
  },
  {
   "cell_type": "code",
   "execution_count": 24,
   "metadata": {},
   "outputs": [
    {
     "name": "stdout",
     "output_type": "stream",
     "text": [
      "<class 'pandas.core.frame.DataFrame'>\n",
      "RangeIndex: 205 entries, 0 to 204\n",
      "Data columns (total 65 columns):\n",
      "symboling                 205 non-null int64\n",
      "fueltype                  205 non-null int64\n",
      "aspiration                205 non-null int64\n",
      "doornumber                205 non-null int64\n",
      "enginelocation            205 non-null int64\n",
      "wheelbase                 205 non-null float64\n",
      "carlength                 205 non-null float64\n",
      "carwidth                  205 non-null float64\n",
      "carheight                 205 non-null float64\n",
      "curbweight                205 non-null int64\n",
      "enginesize                205 non-null int64\n",
      "boreratio                 205 non-null float64\n",
      "stroke                    205 non-null float64\n",
      "compressionratio          205 non-null float64\n",
      "horsepower                205 non-null int64\n",
      "peakrpm                   205 non-null int64\n",
      "citympg                   205 non-null int64\n",
      "highwaympg                205 non-null int64\n",
      "price                     205 non-null float64\n",
      "CompanyName_audi          205 non-null uint8\n",
      "CompanyName_bmw           205 non-null uint8\n",
      "CompanyName_buick         205 non-null uint8\n",
      "CompanyName_chevrolet     205 non-null uint8\n",
      "CompanyName_dodge         205 non-null uint8\n",
      "CompanyName_honda         205 non-null uint8\n",
      "CompanyName_isuzu         205 non-null uint8\n",
      "CompanyName_jaguar        205 non-null uint8\n",
      "CompanyName_mazda         205 non-null uint8\n",
      "CompanyName_mercury       205 non-null uint8\n",
      "CompanyName_mitsubishi    205 non-null uint8\n",
      "CompanyName_nissan        205 non-null uint8\n",
      "CompanyName_peugeot       205 non-null uint8\n",
      "CompanyName_plymouth      205 non-null uint8\n",
      "CompanyName_porsche       205 non-null uint8\n",
      "CompanyName_renault       205 non-null uint8\n",
      "CompanyName_saab          205 non-null uint8\n",
      "CompanyName_subaru        205 non-null uint8\n",
      "CompanyName_toyota        205 non-null uint8\n",
      "CompanyName_volkswagen    205 non-null uint8\n",
      "CompanyName_volvo         205 non-null uint8\n",
      "carbody_hardtop           205 non-null uint8\n",
      "carbody_hatchback         205 non-null uint8\n",
      "carbody_sedan             205 non-null uint8\n",
      "carbody_wagon             205 non-null uint8\n",
      "drivewheel_fwd            205 non-null uint8\n",
      "drivewheel_rwd            205 non-null uint8\n",
      "enginetype_dohcv          205 non-null uint8\n",
      "enginetype_l              205 non-null uint8\n",
      "enginetype_ohc            205 non-null uint8\n",
      "enginetype_ohcf           205 non-null uint8\n",
      "enginetype_ohcv           205 non-null uint8\n",
      "enginetype_rotor          205 non-null uint8\n",
      "cylindernumber_five       205 non-null uint8\n",
      "cylindernumber_four       205 non-null uint8\n",
      "cylindernumber_six        205 non-null uint8\n",
      "cylindernumber_three      205 non-null uint8\n",
      "cylindernumber_twelve     205 non-null uint8\n",
      "cylindernumber_two        205 non-null uint8\n",
      "fuelsystem_2bbl           205 non-null uint8\n",
      "fuelsystem_4bbl           205 non-null uint8\n",
      "fuelsystem_idi            205 non-null uint8\n",
      "fuelsystem_mfi            205 non-null uint8\n",
      "fuelsystem_mpfi           205 non-null uint8\n",
      "fuelsystem_spdi           205 non-null uint8\n",
      "fuelsystem_spfi           205 non-null uint8\n",
      "dtypes: float64(8), int64(11), uint8(46)\n",
      "memory usage: 39.7 KB\n"
     ]
    }
   ],
   "source": [
    "car_df.info()"
   ]
  },
  {
   "cell_type": "markdown",
   "metadata": {},
   "source": [
    "# Data Prepration"
   ]
  },
  {
   "cell_type": "code",
   "execution_count": 25,
   "metadata": {},
   "outputs": [],
   "source": [
    "# Spliting dataframe \"car_df\" to training data and testing data with ratio of 70:30\n",
    "car_train, car_test = train_test_split(car_df, train_size=0.7, test_size=0.3, random_state=100)"
   ]
  },
  {
   "cell_type": "code",
   "execution_count": 26,
   "metadata": {},
   "outputs": [
    {
     "data": {
      "text/plain": [
       "(143, 65)"
      ]
     },
     "execution_count": 26,
     "metadata": {},
     "output_type": "execute_result"
    }
   ],
   "source": [
    "# Checking size of training data\n",
    "car_train.shape"
   ]
  },
  {
   "cell_type": "code",
   "execution_count": 27,
   "metadata": {},
   "outputs": [
    {
     "data": {
      "text/plain": [
       "(62, 65)"
      ]
     },
     "execution_count": 27,
     "metadata": {},
     "output_type": "execute_result"
    }
   ],
   "source": [
    "# Checking size of testing data\n",
    "car_test.shape"
   ]
  },
  {
   "cell_type": "code",
   "execution_count": 28,
   "metadata": {},
   "outputs": [],
   "source": [
    "# Scaling training data using Min-Max Scaling\n",
    "# for all column except binary and dummy variables\n",
    "scalar_obj = MinMaxScaler()\n",
    "num_vars = [\"symboling\", \"wheelbase\", \"carlength\", \"carwidth\", \"carheight\", \"curbweight\", \"enginesize\", \"boreratio\", \"stroke\", \"compressionratio\", \"horsepower\", \"peakrpm\", \"citympg\", \"highwaympg\", \"price\"]\n",
    "car_train[num_vars] = scalar_obj.fit_transform(car_train[num_vars])"
   ]
  },
  {
   "cell_type": "code",
   "execution_count": 29,
   "metadata": {},
   "outputs": [
    {
     "data": {
      "text/html": [
       "<div>\n",
       "<style scoped>\n",
       "    .dataframe tbody tr th:only-of-type {\n",
       "        vertical-align: middle;\n",
       "    }\n",
       "\n",
       "    .dataframe tbody tr th {\n",
       "        vertical-align: top;\n",
       "    }\n",
       "\n",
       "    .dataframe thead th {\n",
       "        text-align: right;\n",
       "    }\n",
       "</style>\n",
       "<table border=\"1\" class=\"dataframe\">\n",
       "  <thead>\n",
       "    <tr style=\"text-align: right;\">\n",
       "      <th></th>\n",
       "      <th>symboling</th>\n",
       "      <th>fueltype</th>\n",
       "      <th>aspiration</th>\n",
       "      <th>doornumber</th>\n",
       "      <th>enginelocation</th>\n",
       "      <th>wheelbase</th>\n",
       "      <th>carlength</th>\n",
       "      <th>carwidth</th>\n",
       "      <th>carheight</th>\n",
       "      <th>curbweight</th>\n",
       "      <th>...</th>\n",
       "      <th>cylindernumber_three</th>\n",
       "      <th>cylindernumber_twelve</th>\n",
       "      <th>cylindernumber_two</th>\n",
       "      <th>fuelsystem_2bbl</th>\n",
       "      <th>fuelsystem_4bbl</th>\n",
       "      <th>fuelsystem_idi</th>\n",
       "      <th>fuelsystem_mfi</th>\n",
       "      <th>fuelsystem_mpfi</th>\n",
       "      <th>fuelsystem_spdi</th>\n",
       "      <th>fuelsystem_spfi</th>\n",
       "    </tr>\n",
       "  </thead>\n",
       "  <tbody>\n",
       "    <tr>\n",
       "      <th>122</th>\n",
       "      <td>0.6</td>\n",
       "      <td>0</td>\n",
       "      <td>0</td>\n",
       "      <td>1</td>\n",
       "      <td>0</td>\n",
       "      <td>0.244828</td>\n",
       "      <td>0.426016</td>\n",
       "      <td>0.291667</td>\n",
       "      <td>0.265487</td>\n",
       "      <td>0.272692</td>\n",
       "      <td>...</td>\n",
       "      <td>0</td>\n",
       "      <td>0</td>\n",
       "      <td>0</td>\n",
       "      <td>1</td>\n",
       "      <td>0</td>\n",
       "      <td>0</td>\n",
       "      <td>0</td>\n",
       "      <td>0</td>\n",
       "      <td>0</td>\n",
       "      <td>0</td>\n",
       "    </tr>\n",
       "    <tr>\n",
       "      <th>125</th>\n",
       "      <td>1.0</td>\n",
       "      <td>0</td>\n",
       "      <td>0</td>\n",
       "      <td>0</td>\n",
       "      <td>0</td>\n",
       "      <td>0.272414</td>\n",
       "      <td>0.452033</td>\n",
       "      <td>0.666667</td>\n",
       "      <td>0.212389</td>\n",
       "      <td>0.500388</td>\n",
       "      <td>...</td>\n",
       "      <td>0</td>\n",
       "      <td>0</td>\n",
       "      <td>0</td>\n",
       "      <td>0</td>\n",
       "      <td>0</td>\n",
       "      <td>0</td>\n",
       "      <td>0</td>\n",
       "      <td>1</td>\n",
       "      <td>0</td>\n",
       "      <td>0</td>\n",
       "    </tr>\n",
       "    <tr>\n",
       "      <th>166</th>\n",
       "      <td>0.6</td>\n",
       "      <td>0</td>\n",
       "      <td>0</td>\n",
       "      <td>0</td>\n",
       "      <td>0</td>\n",
       "      <td>0.272414</td>\n",
       "      <td>0.448780</td>\n",
       "      <td>0.308333</td>\n",
       "      <td>0.424779</td>\n",
       "      <td>0.314973</td>\n",
       "      <td>...</td>\n",
       "      <td>0</td>\n",
       "      <td>0</td>\n",
       "      <td>0</td>\n",
       "      <td>0</td>\n",
       "      <td>0</td>\n",
       "      <td>0</td>\n",
       "      <td>0</td>\n",
       "      <td>1</td>\n",
       "      <td>0</td>\n",
       "      <td>0</td>\n",
       "    </tr>\n",
       "    <tr>\n",
       "      <th>1</th>\n",
       "      <td>1.0</td>\n",
       "      <td>0</td>\n",
       "      <td>0</td>\n",
       "      <td>0</td>\n",
       "      <td>0</td>\n",
       "      <td>0.068966</td>\n",
       "      <td>0.450407</td>\n",
       "      <td>0.316667</td>\n",
       "      <td>0.088496</td>\n",
       "      <td>0.411171</td>\n",
       "      <td>...</td>\n",
       "      <td>0</td>\n",
       "      <td>0</td>\n",
       "      <td>0</td>\n",
       "      <td>0</td>\n",
       "      <td>0</td>\n",
       "      <td>0</td>\n",
       "      <td>0</td>\n",
       "      <td>1</td>\n",
       "      <td>0</td>\n",
       "      <td>0</td>\n",
       "    </tr>\n",
       "    <tr>\n",
       "      <th>199</th>\n",
       "      <td>0.2</td>\n",
       "      <td>0</td>\n",
       "      <td>1</td>\n",
       "      <td>1</td>\n",
       "      <td>0</td>\n",
       "      <td>0.610345</td>\n",
       "      <td>0.775610</td>\n",
       "      <td>0.575000</td>\n",
       "      <td>0.858407</td>\n",
       "      <td>0.647401</td>\n",
       "      <td>...</td>\n",
       "      <td>0</td>\n",
       "      <td>0</td>\n",
       "      <td>0</td>\n",
       "      <td>0</td>\n",
       "      <td>0</td>\n",
       "      <td>0</td>\n",
       "      <td>0</td>\n",
       "      <td>1</td>\n",
       "      <td>0</td>\n",
       "      <td>0</td>\n",
       "    </tr>\n",
       "  </tbody>\n",
       "</table>\n",
       "<p>5 rows × 65 columns</p>\n",
       "</div>"
      ],
      "text/plain": [
       "     symboling  fueltype  aspiration  doornumber  enginelocation  wheelbase  \\\n",
       "122        0.6         0           0           1               0   0.244828   \n",
       "125        1.0         0           0           0               0   0.272414   \n",
       "166        0.6         0           0           0               0   0.272414   \n",
       "1          1.0         0           0           0               0   0.068966   \n",
       "199        0.2         0           1           1               0   0.610345   \n",
       "\n",
       "     carlength  carwidth  carheight  curbweight  ...  cylindernumber_three  \\\n",
       "122   0.426016  0.291667   0.265487    0.272692  ...                     0   \n",
       "125   0.452033  0.666667   0.212389    0.500388  ...                     0   \n",
       "166   0.448780  0.308333   0.424779    0.314973  ...                     0   \n",
       "1     0.450407  0.316667   0.088496    0.411171  ...                     0   \n",
       "199   0.775610  0.575000   0.858407    0.647401  ...                     0   \n",
       "\n",
       "     cylindernumber_twelve  cylindernumber_two  fuelsystem_2bbl  \\\n",
       "122                      0                   0                1   \n",
       "125                      0                   0                0   \n",
       "166                      0                   0                0   \n",
       "1                        0                   0                0   \n",
       "199                      0                   0                0   \n",
       "\n",
       "     fuelsystem_4bbl  fuelsystem_idi  fuelsystem_mfi  fuelsystem_mpfi  \\\n",
       "122                0               0               0                0   \n",
       "125                0               0               0                1   \n",
       "166                0               0               0                1   \n",
       "1                  0               0               0                1   \n",
       "199                0               0               0                1   \n",
       "\n",
       "     fuelsystem_spdi  fuelsystem_spfi  \n",
       "122                0                0  \n",
       "125                0                0  \n",
       "166                0                0  \n",
       "1                  0                0  \n",
       "199                0                0  \n",
       "\n",
       "[5 rows x 65 columns]"
      ]
     },
     "execution_count": 29,
     "metadata": {},
     "output_type": "execute_result"
    }
   ],
   "source": [
    "# Checking the data of car_train\n",
    "car_train.head()"
   ]
  },
  {
   "cell_type": "code",
   "execution_count": 30,
   "metadata": {},
   "outputs": [
    {
     "data": {
      "text/html": [
       "<div>\n",
       "<style scoped>\n",
       "    .dataframe tbody tr th:only-of-type {\n",
       "        vertical-align: middle;\n",
       "    }\n",
       "\n",
       "    .dataframe tbody tr th {\n",
       "        vertical-align: top;\n",
       "    }\n",
       "\n",
       "    .dataframe thead th {\n",
       "        text-align: right;\n",
       "    }\n",
       "</style>\n",
       "<table border=\"1\" class=\"dataframe\">\n",
       "  <thead>\n",
       "    <tr style=\"text-align: right;\">\n",
       "      <th></th>\n",
       "      <th>symboling</th>\n",
       "      <th>fueltype</th>\n",
       "      <th>aspiration</th>\n",
       "      <th>doornumber</th>\n",
       "      <th>enginelocation</th>\n",
       "      <th>wheelbase</th>\n",
       "      <th>carlength</th>\n",
       "      <th>carwidth</th>\n",
       "      <th>carheight</th>\n",
       "      <th>curbweight</th>\n",
       "      <th>...</th>\n",
       "      <th>cylindernumber_three</th>\n",
       "      <th>cylindernumber_twelve</th>\n",
       "      <th>cylindernumber_two</th>\n",
       "      <th>fuelsystem_2bbl</th>\n",
       "      <th>fuelsystem_4bbl</th>\n",
       "      <th>fuelsystem_idi</th>\n",
       "      <th>fuelsystem_mfi</th>\n",
       "      <th>fuelsystem_mpfi</th>\n",
       "      <th>fuelsystem_spdi</th>\n",
       "      <th>fuelsystem_spfi</th>\n",
       "    </tr>\n",
       "  </thead>\n",
       "  <tbody>\n",
       "    <tr>\n",
       "      <th>count</th>\n",
       "      <td>143.000000</td>\n",
       "      <td>143.000000</td>\n",
       "      <td>143.000000</td>\n",
       "      <td>143.000000</td>\n",
       "      <td>143.000000</td>\n",
       "      <td>143.000000</td>\n",
       "      <td>143.000000</td>\n",
       "      <td>143.000000</td>\n",
       "      <td>143.000000</td>\n",
       "      <td>143.000000</td>\n",
       "      <td>...</td>\n",
       "      <td>143.000000</td>\n",
       "      <td>143.000000</td>\n",
       "      <td>143.000000</td>\n",
       "      <td>143.000000</td>\n",
       "      <td>143.000000</td>\n",
       "      <td>143.000000</td>\n",
       "      <td>143.0</td>\n",
       "      <td>143.000000</td>\n",
       "      <td>143.000000</td>\n",
       "      <td>143.0</td>\n",
       "    </tr>\n",
       "    <tr>\n",
       "      <th>mean</th>\n",
       "      <td>0.559441</td>\n",
       "      <td>0.090909</td>\n",
       "      <td>0.181818</td>\n",
       "      <td>0.559441</td>\n",
       "      <td>0.006993</td>\n",
       "      <td>0.411141</td>\n",
       "      <td>0.525476</td>\n",
       "      <td>0.461655</td>\n",
       "      <td>0.509004</td>\n",
       "      <td>0.407878</td>\n",
       "      <td>...</td>\n",
       "      <td>0.006993</td>\n",
       "      <td>0.006993</td>\n",
       "      <td>0.027972</td>\n",
       "      <td>0.349650</td>\n",
       "      <td>0.020979</td>\n",
       "      <td>0.090909</td>\n",
       "      <td>0.0</td>\n",
       "      <td>0.440559</td>\n",
       "      <td>0.041958</td>\n",
       "      <td>0.0</td>\n",
       "    </tr>\n",
       "    <tr>\n",
       "      <th>std</th>\n",
       "      <td>0.239200</td>\n",
       "      <td>0.288490</td>\n",
       "      <td>0.387050</td>\n",
       "      <td>0.498199</td>\n",
       "      <td>0.083624</td>\n",
       "      <td>0.205581</td>\n",
       "      <td>0.204848</td>\n",
       "      <td>0.184517</td>\n",
       "      <td>0.215378</td>\n",
       "      <td>0.211269</td>\n",
       "      <td>...</td>\n",
       "      <td>0.083624</td>\n",
       "      <td>0.083624</td>\n",
       "      <td>0.165472</td>\n",
       "      <td>0.478536</td>\n",
       "      <td>0.143818</td>\n",
       "      <td>0.288490</td>\n",
       "      <td>0.0</td>\n",
       "      <td>0.498199</td>\n",
       "      <td>0.201198</td>\n",
       "      <td>0.0</td>\n",
       "    </tr>\n",
       "    <tr>\n",
       "      <th>min</th>\n",
       "      <td>0.000000</td>\n",
       "      <td>0.000000</td>\n",
       "      <td>0.000000</td>\n",
       "      <td>0.000000</td>\n",
       "      <td>0.000000</td>\n",
       "      <td>0.000000</td>\n",
       "      <td>0.000000</td>\n",
       "      <td>0.000000</td>\n",
       "      <td>0.000000</td>\n",
       "      <td>0.000000</td>\n",
       "      <td>...</td>\n",
       "      <td>0.000000</td>\n",
       "      <td>0.000000</td>\n",
       "      <td>0.000000</td>\n",
       "      <td>0.000000</td>\n",
       "      <td>0.000000</td>\n",
       "      <td>0.000000</td>\n",
       "      <td>0.0</td>\n",
       "      <td>0.000000</td>\n",
       "      <td>0.000000</td>\n",
       "      <td>0.0</td>\n",
       "    </tr>\n",
       "    <tr>\n",
       "      <th>25%</th>\n",
       "      <td>0.400000</td>\n",
       "      <td>0.000000</td>\n",
       "      <td>0.000000</td>\n",
       "      <td>0.000000</td>\n",
       "      <td>0.000000</td>\n",
       "      <td>0.272414</td>\n",
       "      <td>0.399187</td>\n",
       "      <td>0.304167</td>\n",
       "      <td>0.353982</td>\n",
       "      <td>0.245539</td>\n",
       "      <td>...</td>\n",
       "      <td>0.000000</td>\n",
       "      <td>0.000000</td>\n",
       "      <td>0.000000</td>\n",
       "      <td>0.000000</td>\n",
       "      <td>0.000000</td>\n",
       "      <td>0.000000</td>\n",
       "      <td>0.0</td>\n",
       "      <td>0.000000</td>\n",
       "      <td>0.000000</td>\n",
       "      <td>0.0</td>\n",
       "    </tr>\n",
       "    <tr>\n",
       "      <th>50%</th>\n",
       "      <td>0.600000</td>\n",
       "      <td>0.000000</td>\n",
       "      <td>0.000000</td>\n",
       "      <td>1.000000</td>\n",
       "      <td>0.000000</td>\n",
       "      <td>0.341379</td>\n",
       "      <td>0.502439</td>\n",
       "      <td>0.425000</td>\n",
       "      <td>0.522124</td>\n",
       "      <td>0.355702</td>\n",
       "      <td>...</td>\n",
       "      <td>0.000000</td>\n",
       "      <td>0.000000</td>\n",
       "      <td>0.000000</td>\n",
       "      <td>0.000000</td>\n",
       "      <td>0.000000</td>\n",
       "      <td>0.000000</td>\n",
       "      <td>0.0</td>\n",
       "      <td>0.000000</td>\n",
       "      <td>0.000000</td>\n",
       "      <td>0.0</td>\n",
       "    </tr>\n",
       "    <tr>\n",
       "      <th>75%</th>\n",
       "      <td>0.600000</td>\n",
       "      <td>0.000000</td>\n",
       "      <td>0.000000</td>\n",
       "      <td>1.000000</td>\n",
       "      <td>0.000000</td>\n",
       "      <td>0.503448</td>\n",
       "      <td>0.669919</td>\n",
       "      <td>0.550000</td>\n",
       "      <td>0.668142</td>\n",
       "      <td>0.559542</td>\n",
       "      <td>...</td>\n",
       "      <td>0.000000</td>\n",
       "      <td>0.000000</td>\n",
       "      <td>0.000000</td>\n",
       "      <td>1.000000</td>\n",
       "      <td>0.000000</td>\n",
       "      <td>0.000000</td>\n",
       "      <td>0.0</td>\n",
       "      <td>1.000000</td>\n",
       "      <td>0.000000</td>\n",
       "      <td>0.0</td>\n",
       "    </tr>\n",
       "    <tr>\n",
       "      <th>max</th>\n",
       "      <td>1.000000</td>\n",
       "      <td>1.000000</td>\n",
       "      <td>1.000000</td>\n",
       "      <td>1.000000</td>\n",
       "      <td>1.000000</td>\n",
       "      <td>1.000000</td>\n",
       "      <td>1.000000</td>\n",
       "      <td>1.000000</td>\n",
       "      <td>1.000000</td>\n",
       "      <td>1.000000</td>\n",
       "      <td>...</td>\n",
       "      <td>1.000000</td>\n",
       "      <td>1.000000</td>\n",
       "      <td>1.000000</td>\n",
       "      <td>1.000000</td>\n",
       "      <td>1.000000</td>\n",
       "      <td>1.000000</td>\n",
       "      <td>0.0</td>\n",
       "      <td>1.000000</td>\n",
       "      <td>1.000000</td>\n",
       "      <td>0.0</td>\n",
       "    </tr>\n",
       "  </tbody>\n",
       "</table>\n",
       "<p>8 rows × 65 columns</p>\n",
       "</div>"
      ],
      "text/plain": [
       "        symboling    fueltype  aspiration  doornumber  enginelocation  \\\n",
       "count  143.000000  143.000000  143.000000  143.000000      143.000000   \n",
       "mean     0.559441    0.090909    0.181818    0.559441        0.006993   \n",
       "std      0.239200    0.288490    0.387050    0.498199        0.083624   \n",
       "min      0.000000    0.000000    0.000000    0.000000        0.000000   \n",
       "25%      0.400000    0.000000    0.000000    0.000000        0.000000   \n",
       "50%      0.600000    0.000000    0.000000    1.000000        0.000000   \n",
       "75%      0.600000    0.000000    0.000000    1.000000        0.000000   \n",
       "max      1.000000    1.000000    1.000000    1.000000        1.000000   \n",
       "\n",
       "        wheelbase   carlength    carwidth   carheight  curbweight  ...  \\\n",
       "count  143.000000  143.000000  143.000000  143.000000  143.000000  ...   \n",
       "mean     0.411141    0.525476    0.461655    0.509004    0.407878  ...   \n",
       "std      0.205581    0.204848    0.184517    0.215378    0.211269  ...   \n",
       "min      0.000000    0.000000    0.000000    0.000000    0.000000  ...   \n",
       "25%      0.272414    0.399187    0.304167    0.353982    0.245539  ...   \n",
       "50%      0.341379    0.502439    0.425000    0.522124    0.355702  ...   \n",
       "75%      0.503448    0.669919    0.550000    0.668142    0.559542  ...   \n",
       "max      1.000000    1.000000    1.000000    1.000000    1.000000  ...   \n",
       "\n",
       "       cylindernumber_three  cylindernumber_twelve  cylindernumber_two  \\\n",
       "count            143.000000             143.000000          143.000000   \n",
       "mean               0.006993               0.006993            0.027972   \n",
       "std                0.083624               0.083624            0.165472   \n",
       "min                0.000000               0.000000            0.000000   \n",
       "25%                0.000000               0.000000            0.000000   \n",
       "50%                0.000000               0.000000            0.000000   \n",
       "75%                0.000000               0.000000            0.000000   \n",
       "max                1.000000               1.000000            1.000000   \n",
       "\n",
       "       fuelsystem_2bbl  fuelsystem_4bbl  fuelsystem_idi  fuelsystem_mfi  \\\n",
       "count       143.000000       143.000000      143.000000           143.0   \n",
       "mean          0.349650         0.020979        0.090909             0.0   \n",
       "std           0.478536         0.143818        0.288490             0.0   \n",
       "min           0.000000         0.000000        0.000000             0.0   \n",
       "25%           0.000000         0.000000        0.000000             0.0   \n",
       "50%           0.000000         0.000000        0.000000             0.0   \n",
       "75%           1.000000         0.000000        0.000000             0.0   \n",
       "max           1.000000         1.000000        1.000000             0.0   \n",
       "\n",
       "       fuelsystem_mpfi  fuelsystem_spdi  fuelsystem_spfi  \n",
       "count       143.000000       143.000000            143.0  \n",
       "mean          0.440559         0.041958              0.0  \n",
       "std           0.498199         0.201198              0.0  \n",
       "min           0.000000         0.000000              0.0  \n",
       "25%           0.000000         0.000000              0.0  \n",
       "50%           0.000000         0.000000              0.0  \n",
       "75%           1.000000         0.000000              0.0  \n",
       "max           1.000000         1.000000              0.0  \n",
       "\n",
       "[8 rows x 65 columns]"
      ]
     },
     "execution_count": 30,
     "metadata": {},
     "output_type": "execute_result"
    }
   ],
   "source": [
    "# Checking summary statistics of car_train\n",
    "car_train.describe()"
   ]
  },
  {
   "cell_type": "code",
   "execution_count": 31,
   "metadata": {},
   "outputs": [],
   "source": [
    "# Deviding training data into X_train and y_train\n",
    "y_train = car_train.pop(\"price\")\n",
    "X_train = car_train"
   ]
  },
  {
   "cell_type": "markdown",
   "metadata": {},
   "source": [
    "# Model Building"
   ]
  },
  {
   "cell_type": "code",
   "execution_count": 32,
   "metadata": {},
   "outputs": [],
   "source": [
    "# Creating LinearRegression object and fitting model\n",
    "lm = LinearRegression()\n",
    "lm.fit(X_train, y_train)\n",
    "\n",
    "# Running RFE to get top 10 variables \n",
    "rfe = RFE(lm, 10)\n",
    "rfe = rfe.fit(X_train, y_train)"
   ]
  },
  {
   "cell_type": "code",
   "execution_count": 33,
   "metadata": {},
   "outputs": [
    {
     "data": {
      "text/plain": [
       "[('symboling', False, 45),\n",
       " ('fueltype', False, 25),\n",
       " ('aspiration', False, 14),\n",
       " ('doornumber', False, 44),\n",
       " ('enginelocation', True, 1),\n",
       " ('wheelbase', False, 17),\n",
       " ('carlength', False, 21),\n",
       " ('carwidth', True, 1),\n",
       " ('carheight', False, 18),\n",
       " ('curbweight', True, 1),\n",
       " ('enginesize', True, 1),\n",
       " ('boreratio', True, 1),\n",
       " ('stroke', False, 2),\n",
       " ('compressionratio', False, 26),\n",
       " ('horsepower', False, 15),\n",
       " ('peakrpm', False, 16),\n",
       " ('citympg', False, 39),\n",
       " ('highwaympg', False, 27),\n",
       " ('CompanyName_audi', False, 37),\n",
       " ('CompanyName_bmw', True, 1),\n",
       " ('CompanyName_buick', False, 38),\n",
       " ('CompanyName_chevrolet', False, 23),\n",
       " ('CompanyName_dodge', False, 20),\n",
       " ('CompanyName_honda', False, 22),\n",
       " ('CompanyName_isuzu', False, 43),\n",
       " ('CompanyName_jaguar', False, 28),\n",
       " ('CompanyName_mazda', False, 48),\n",
       " ('CompanyName_mercury', False, 51),\n",
       " ('CompanyName_mitsubishi', False, 13),\n",
       " ('CompanyName_nissan', False, 46),\n",
       " ('CompanyName_peugeot', False, 6),\n",
       " ('CompanyName_plymouth', False, 19),\n",
       " ('CompanyName_porsche', True, 1),\n",
       " ('CompanyName_renault', False, 40),\n",
       " ('CompanyName_saab', False, 9),\n",
       " ('CompanyName_subaru', False, 11),\n",
       " ('CompanyName_toyota', False, 49),\n",
       " ('CompanyName_volkswagen', False, 47),\n",
       " ('CompanyName_volvo', False, 8),\n",
       " ('carbody_hardtop', False, 31),\n",
       " ('carbody_hatchback', False, 30),\n",
       " ('carbody_sedan', False, 32),\n",
       " ('carbody_wagon', False, 33),\n",
       " ('drivewheel_fwd', False, 52),\n",
       " ('drivewheel_rwd', False, 42),\n",
       " ('enginetype_dohcv', False, 12),\n",
       " ('enginetype_l', False, 7),\n",
       " ('enginetype_ohc', False, 53),\n",
       " ('enginetype_ohcf', False, 10),\n",
       " ('enginetype_ohcv', False, 41),\n",
       " ('enginetype_rotor', False, 3),\n",
       " ('cylindernumber_five', False, 5),\n",
       " ('cylindernumber_four', False, 4),\n",
       " ('cylindernumber_six', False, 29),\n",
       " ('cylindernumber_three', True, 1),\n",
       " ('cylindernumber_twelve', True, 1),\n",
       " ('cylindernumber_two', True, 1),\n",
       " ('fuelsystem_2bbl', False, 50),\n",
       " ('fuelsystem_4bbl', False, 34),\n",
       " ('fuelsystem_idi', False, 24),\n",
       " ('fuelsystem_mfi', False, 54),\n",
       " ('fuelsystem_mpfi', False, 36),\n",
       " ('fuelsystem_spdi', False, 35),\n",
       " ('fuelsystem_spfi', False, 55)]"
      ]
     },
     "execution_count": 33,
     "metadata": {},
     "output_type": "execute_result"
    }
   ],
   "source": [
    "# Checking columns with ranking and status given by RFE\n",
    "list(zip(X_train.columns,rfe.support_,rfe.ranking_))"
   ]
  },
  {
   "cell_type": "code",
   "execution_count": 34,
   "metadata": {},
   "outputs": [
    {
     "data": {
      "text/plain": [
       "Index(['enginelocation', 'carwidth', 'curbweight', 'enginesize', 'boreratio',\n",
       "       'CompanyName_bmw', 'CompanyName_porsche', 'cylindernumber_three',\n",
       "       'cylindernumber_twelve', 'cylindernumber_two'],\n",
       "      dtype='object')"
      ]
     },
     "execution_count": 34,
     "metadata": {},
     "output_type": "execute_result"
    }
   ],
   "source": [
    "# Checking top 10 variables found by RFE\n",
    "X_train.columns[rfe.support_]"
   ]
  },
  {
   "cell_type": "markdown",
   "metadata": {},
   "source": [
    "## Model-1\n",
    "Creating Linear Model using statsmodels"
   ]
  },
  {
   "cell_type": "code",
   "execution_count": 35,
   "metadata": {},
   "outputs": [],
   "source": [
    "# Creating new dataframe X_train_top from all top 10 variables we got after RFE\n",
    "X_train_top = X_train[['enginelocation', 'carwidth', 'curbweight', 'enginesize', 'boreratio',\n",
    "       'CompanyName_bmw', 'CompanyName_porsche', 'cylindernumber_three',\n",
    "       'cylindernumber_twelve', 'cylindernumber_two']].copy()\n",
    "\n",
    "# Adding Constant to X_train\n",
    "X_train_lm = sm.add_constant(X_train_top)\n",
    "\n",
    "# Fitting model using OLS method\n",
    "lr1 = sm.OLS(y_train, X_train_lm).fit()"
   ]
  },
  {
   "cell_type": "code",
   "execution_count": 114,
   "metadata": {},
   "outputs": [
    {
     "name": "stdout",
     "output_type": "stream",
     "text": [
      "                            OLS Regression Results                            \n",
      "==============================================================================\n",
      "Dep. Variable:                  price   R-squared:                       0.912\n",
      "Model:                            OLS   Adj. R-squared:                  0.906\n",
      "Method:                 Least Squares   F-statistic:                     137.1\n",
      "Date:                Mon, 07 Oct 2019   Prob (F-statistic):           1.21e-64\n",
      "Time:                        17:03:00   Log-Likelihood:                 190.87\n",
      "No. Observations:                 143   AIC:                            -359.7\n",
      "Df Residuals:                     132   BIC:                            -327.1\n",
      "Df Model:                          10                                         \n",
      "Covariance Type:            nonrobust                                         \n",
      "=========================================================================================\n",
      "                            coef    std err          t      P>|t|      [0.025      0.975]\n",
      "-----------------------------------------------------------------------------------------\n",
      "const                    -0.1594      0.019     -8.597      0.000      -0.196      -0.123\n",
      "enginelocation            0.3298      0.086      3.844      0.000       0.160       0.500\n",
      "carwidth                  0.3283      0.067      4.910      0.000       0.196       0.461\n",
      "curbweight                0.2989      0.080      3.729      0.000       0.140       0.457\n",
      "enginesize                0.5732      0.097      5.926      0.000       0.382       0.764\n",
      "boreratio                -0.1088      0.037     -2.976      0.003      -0.181      -0.036\n",
      "CompanyName_bmw           0.2453      0.029      8.327      0.000       0.187       0.304\n",
      "CompanyName_porsche       0.1565      0.052      3.000      0.003       0.053       0.260\n",
      "cylindernumber_three      0.1802      0.068      2.638      0.009       0.045       0.315\n",
      "cylindernumber_twelve    -0.0536      0.081     -0.659      0.511      -0.214       0.107\n",
      "cylindernumber_two        0.1542      0.037      4.123      0.000       0.080       0.228\n",
      "==============================================================================\n",
      "Omnibus:                       10.995   Durbin-Watson:                   1.961\n",
      "Prob(Omnibus):                  0.004   Jarque-Bera (JB):               15.683\n",
      "Skew:                           0.423   Prob(JB):                     0.000393\n",
      "Kurtosis:                       4.385   Cond. No.                         30.0\n",
      "==============================================================================\n",
      "\n",
      "Warnings:\n",
      "[1] Standard Errors assume that the covariance matrix of the errors is correctly specified.\n"
     ]
    }
   ],
   "source": [
    "# Checking summary of Model\n",
    "print(lr1.summary())"
   ]
  },
  {
   "cell_type": "code",
   "execution_count": 115,
   "metadata": {},
   "outputs": [
    {
     "data": {
      "text/html": [
       "<div>\n",
       "<style scoped>\n",
       "    .dataframe tbody tr th:only-of-type {\n",
       "        vertical-align: middle;\n",
       "    }\n",
       "\n",
       "    .dataframe tbody tr th {\n",
       "        vertical-align: top;\n",
       "    }\n",
       "\n",
       "    .dataframe thead th {\n",
       "        text-align: right;\n",
       "    }\n",
       "</style>\n",
       "<table border=\"1\" class=\"dataframe\">\n",
       "  <thead>\n",
       "    <tr style=\"text-align: right;\">\n",
       "      <th></th>\n",
       "      <th>variables</th>\n",
       "      <th>VIF</th>\n",
       "    </tr>\n",
       "  </thead>\n",
       "  <tbody>\n",
       "    <tr>\n",
       "      <th>2</th>\n",
       "      <td>curbweight</td>\n",
       "      <td>41.06</td>\n",
       "    </tr>\n",
       "    <tr>\n",
       "      <th>1</th>\n",
       "      <td>carwidth</td>\n",
       "      <td>25.19</td>\n",
       "    </tr>\n",
       "    <tr>\n",
       "      <th>3</th>\n",
       "      <td>enginesize</td>\n",
       "      <td>24.95</td>\n",
       "    </tr>\n",
       "    <tr>\n",
       "      <th>4</th>\n",
       "      <td>boreratio</td>\n",
       "      <td>9.78</td>\n",
       "    </tr>\n",
       "    <tr>\n",
       "      <th>6</th>\n",
       "      <td>CompanyName_porsche</td>\n",
       "      <td>1.67</td>\n",
       "    </tr>\n",
       "    <tr>\n",
       "      <th>0</th>\n",
       "      <td>enginelocation</td>\n",
       "      <td>1.61</td>\n",
       "    </tr>\n",
       "    <tr>\n",
       "      <th>8</th>\n",
       "      <td>cylindernumber_twelve</td>\n",
       "      <td>1.50</td>\n",
       "    </tr>\n",
       "    <tr>\n",
       "      <th>9</th>\n",
       "      <td>cylindernumber_two</td>\n",
       "      <td>1.27</td>\n",
       "    </tr>\n",
       "    <tr>\n",
       "      <th>5</th>\n",
       "      <td>CompanyName_bmw</td>\n",
       "      <td>1.18</td>\n",
       "    </tr>\n",
       "    <tr>\n",
       "      <th>7</th>\n",
       "      <td>cylindernumber_three</td>\n",
       "      <td>1.01</td>\n",
       "    </tr>\n",
       "  </tbody>\n",
       "</table>\n",
       "</div>"
      ],
      "text/plain": [
       "               variables    VIF\n",
       "2             curbweight  41.06\n",
       "1               carwidth  25.19\n",
       "3             enginesize  24.95\n",
       "4              boreratio   9.78\n",
       "6    CompanyName_porsche   1.67\n",
       "0         enginelocation   1.61\n",
       "8  cylindernumber_twelve   1.50\n",
       "9     cylindernumber_two   1.27\n",
       "5        CompanyName_bmw   1.18\n",
       "7   cylindernumber_three   1.01"
      ]
     },
     "execution_count": 115,
     "metadata": {},
     "output_type": "execute_result"
    }
   ],
   "source": [
    "# Checking the multicollinearity of the independent variables\n",
    "\n",
    "# Creating dataframe to contain names of variables and their VIF values\n",
    "vif = pd.DataFrame()\n",
    "vif[\"variables\"] = X_train_top.columns\n",
    "vif[\"VIF\"] = [variance_inflation_factor(X_train_top.values, i) for i in range(X_train_top.shape[1])]\n",
    "vif[\"VIF\"] = round(vif[\"VIF\"], 2)\n",
    "vif = vif.sort_values(by=\"VIF\", ascending=False)\n",
    "vif"
   ]
  },
  {
   "cell_type": "markdown",
   "metadata": {},
   "source": [
    "In Model-1, there is a variable \"cylindernumber_twelve\" who's p-value is 0.511 which is greater than 0.05 means variable \"cylindernumber_twelve\" is insignificant. We will remove insignificant variable \"cylindernumber_twelve\" and will create model again."
   ]
  },
  {
   "cell_type": "markdown",
   "metadata": {},
   "source": [
    "## Model-2\n",
    "Creating Linear Model using statsmodels"
   ]
  },
  {
   "cell_type": "code",
   "execution_count": 116,
   "metadata": {},
   "outputs": [],
   "source": [
    "# Creating new dataframe X_train_top from remaining variables\n",
    "X_train_top = X_train[['enginelocation', 'carwidth', 'curbweight', 'enginesize', 'boreratio',\n",
    "       'CompanyName_bmw', 'CompanyName_porsche', 'cylindernumber_three', 'cylindernumber_two']].copy()\n",
    "\n",
    "# Adding Constant to X_train\n",
    "X_train_lm = sm.add_constant(X_train_top)\n",
    "\n",
    "# Fitting model using OLS method\n",
    "lr2 = sm.OLS(y_train, X_train_lm).fit()"
   ]
  },
  {
   "cell_type": "code",
   "execution_count": 117,
   "metadata": {},
   "outputs": [
    {
     "name": "stdout",
     "output_type": "stream",
     "text": [
      "                            OLS Regression Results                            \n",
      "==============================================================================\n",
      "Dep. Variable:                  price   R-squared:                       0.912\n",
      "Model:                            OLS   Adj. R-squared:                  0.906\n",
      "Method:                 Least Squares   F-statistic:                     152.9\n",
      "Date:                Mon, 07 Oct 2019   Prob (F-statistic):           1.18e-65\n",
      "Time:                        17:04:17   Log-Likelihood:                 190.63\n",
      "No. Observations:                 143   AIC:                            -361.3\n",
      "Df Residuals:                     133   BIC:                            -331.6\n",
      "Df Model:                           9                                         \n",
      "Covariance Type:            nonrobust                                         \n",
      "========================================================================================\n",
      "                           coef    std err          t      P>|t|      [0.025      0.975]\n",
      "----------------------------------------------------------------------------------------\n",
      "const                   -0.1587      0.018     -8.591      0.000      -0.195      -0.122\n",
      "enginelocation           0.3348      0.085      3.925      0.000       0.166       0.503\n",
      "carwidth                 0.3303      0.067      4.954      0.000       0.198       0.462\n",
      "curbweight               0.3126      0.077      4.048      0.000       0.160       0.465\n",
      "enginesize               0.5389      0.081      6.625      0.000       0.378       0.700\n",
      "boreratio               -0.1075      0.036     -2.952      0.004      -0.180      -0.035\n",
      "CompanyName_bmw          0.2490      0.029      8.628      0.000       0.192       0.306\n",
      "CompanyName_porsche      0.1596      0.052      3.077      0.003       0.057       0.262\n",
      "cylindernumber_three     0.1793      0.068      2.631      0.010       0.044       0.314\n",
      "cylindernumber_two       0.1485      0.036      4.089      0.000       0.077       0.220\n",
      "==============================================================================\n",
      "Omnibus:                       12.252   Durbin-Watson:                   1.970\n",
      "Prob(Omnibus):                  0.002   Jarque-Bera (JB):               17.484\n",
      "Skew:                           0.473   Prob(JB):                     0.000160\n",
      "Kurtosis:                       4.428   Cond. No.                         25.5\n",
      "==============================================================================\n",
      "\n",
      "Warnings:\n",
      "[1] Standard Errors assume that the covariance matrix of the errors is correctly specified.\n"
     ]
    }
   ],
   "source": [
    "# Checking summary of Model\n",
    "print(lr2.summary())"
   ]
  },
  {
   "cell_type": "code",
   "execution_count": 118,
   "metadata": {},
   "outputs": [
    {
     "data": {
      "text/html": [
       "<div>\n",
       "<style scoped>\n",
       "    .dataframe tbody tr th:only-of-type {\n",
       "        vertical-align: middle;\n",
       "    }\n",
       "\n",
       "    .dataframe tbody tr th {\n",
       "        vertical-align: top;\n",
       "    }\n",
       "\n",
       "    .dataframe thead th {\n",
       "        text-align: right;\n",
       "    }\n",
       "</style>\n",
       "<table border=\"1\" class=\"dataframe\">\n",
       "  <thead>\n",
       "    <tr style=\"text-align: right;\">\n",
       "      <th></th>\n",
       "      <th>variables</th>\n",
       "      <th>VIF</th>\n",
       "    </tr>\n",
       "  </thead>\n",
       "  <tbody>\n",
       "    <tr>\n",
       "      <th>2</th>\n",
       "      <td>curbweight</td>\n",
       "      <td>38.41</td>\n",
       "    </tr>\n",
       "    <tr>\n",
       "      <th>1</th>\n",
       "      <td>carwidth</td>\n",
       "      <td>24.99</td>\n",
       "    </tr>\n",
       "    <tr>\n",
       "      <th>3</th>\n",
       "      <td>enginesize</td>\n",
       "      <td>17.70</td>\n",
       "    </tr>\n",
       "    <tr>\n",
       "      <th>4</th>\n",
       "      <td>boreratio</td>\n",
       "      <td>9.70</td>\n",
       "    </tr>\n",
       "    <tr>\n",
       "      <th>6</th>\n",
       "      <td>CompanyName_porsche</td>\n",
       "      <td>1.66</td>\n",
       "    </tr>\n",
       "    <tr>\n",
       "      <th>0</th>\n",
       "      <td>enginelocation</td>\n",
       "      <td>1.60</td>\n",
       "    </tr>\n",
       "    <tr>\n",
       "      <th>8</th>\n",
       "      <td>cylindernumber_two</td>\n",
       "      <td>1.21</td>\n",
       "    </tr>\n",
       "    <tr>\n",
       "      <th>5</th>\n",
       "      <td>CompanyName_bmw</td>\n",
       "      <td>1.14</td>\n",
       "    </tr>\n",
       "    <tr>\n",
       "      <th>7</th>\n",
       "      <td>cylindernumber_three</td>\n",
       "      <td>1.01</td>\n",
       "    </tr>\n",
       "  </tbody>\n",
       "</table>\n",
       "</div>"
      ],
      "text/plain": [
       "              variables    VIF\n",
       "2            curbweight  38.41\n",
       "1              carwidth  24.99\n",
       "3            enginesize  17.70\n",
       "4             boreratio   9.70\n",
       "6   CompanyName_porsche   1.66\n",
       "0        enginelocation   1.60\n",
       "8    cylindernumber_two   1.21\n",
       "5       CompanyName_bmw   1.14\n",
       "7  cylindernumber_three   1.01"
      ]
     },
     "execution_count": 118,
     "metadata": {},
     "output_type": "execute_result"
    }
   ],
   "source": [
    "# Checking the multicollinearity of the independent variables\n",
    "\n",
    "# Creating dataframe to contain names of variables and their VIF values\n",
    "vif = pd.DataFrame()\n",
    "vif[\"variables\"] = X_train_top.columns\n",
    "vif[\"VIF\"] = [variance_inflation_factor(X_train_top.values, i) for i in range(X_train_top.shape[1])]\n",
    "vif[\"VIF\"] = round(vif[\"VIF\"], 2)\n",
    "vif = vif.sort_values(by=\"VIF\", ascending=False)\n",
    "vif"
   ]
  },
  {
   "cell_type": "markdown",
   "metadata": {},
   "source": [
    "In Model-2, there are variables who's VIF is greater than 5 which shows multicollinearity in the model, We will remove variable \"curbweight\" as it is having maximum VIF(38.41) and will create model again."
   ]
  },
  {
   "cell_type": "markdown",
   "metadata": {},
   "source": [
    "## Model-3\n",
    "Creating Linear Model using statsmodels"
   ]
  },
  {
   "cell_type": "code",
   "execution_count": 119,
   "metadata": {},
   "outputs": [],
   "source": [
    "# Creating new dataframe X_train_top from remaining variables\n",
    "X_train_top = X_train[['enginelocation', 'carwidth', 'enginesize', 'boreratio',\n",
    "       'CompanyName_bmw', 'CompanyName_porsche', 'cylindernumber_three', 'cylindernumber_two']].copy()\n",
    "\n",
    "# Adding Constant to X_train\n",
    "X_train_lm = sm.add_constant(X_train_top)\n",
    "\n",
    "# Fitting model using OLS method\n",
    "lr3 = sm.OLS(y_train, X_train_lm).fit()"
   ]
  },
  {
   "cell_type": "code",
   "execution_count": 120,
   "metadata": {},
   "outputs": [
    {
     "name": "stdout",
     "output_type": "stream",
     "text": [
      "                            OLS Regression Results                            \n",
      "==============================================================================\n",
      "Dep. Variable:                  price   R-squared:                       0.901\n",
      "Model:                            OLS   Adj. R-squared:                  0.895\n",
      "Method:                 Least Squares   F-statistic:                     152.5\n",
      "Date:                Mon, 07 Oct 2019   Prob (F-statistic):           2.01e-63\n",
      "Time:                        17:04:35   Log-Likelihood:                 182.32\n",
      "No. Observations:                 143   AIC:                            -346.6\n",
      "Df Residuals:                     134   BIC:                            -320.0\n",
      "Df Model:                           8                                         \n",
      "Covariance Type:            nonrobust                                         \n",
      "========================================================================================\n",
      "                           coef    std err          t      P>|t|      [0.025      0.975]\n",
      "----------------------------------------------------------------------------------------\n",
      "const                   -0.1778      0.019     -9.421      0.000      -0.215      -0.140\n",
      "enginelocation           0.3627      0.090      4.041      0.000       0.185       0.540\n",
      "carwidth                 0.4952      0.056      8.885      0.000       0.385       0.605\n",
      "enginesize               0.7451      0.067     11.131      0.000       0.613       0.878\n",
      "boreratio               -0.0657      0.037     -1.782      0.077      -0.139       0.007\n",
      "CompanyName_bmw          0.2499      0.030      8.201      0.000       0.190       0.310\n",
      "CompanyName_porsche      0.1012      0.053      1.924      0.057      -0.003       0.205\n",
      "cylindernumber_three     0.1907      0.072      2.652      0.009       0.048       0.333\n",
      "cylindernumber_two       0.1748      0.038      4.632      0.000       0.100       0.249\n",
      "==============================================================================\n",
      "Omnibus:                       10.252   Durbin-Watson:                   2.026\n",
      "Prob(Omnibus):                  0.006   Jarque-Bera (JB):               10.804\n",
      "Skew:                           0.546   Prob(JB):                      0.00451\n",
      "Kurtosis:                       3.787   Cond. No.                         21.8\n",
      "==============================================================================\n",
      "\n",
      "Warnings:\n",
      "[1] Standard Errors assume that the covariance matrix of the errors is correctly specified.\n"
     ]
    }
   ],
   "source": [
    "# Checking summary of Model\n",
    "print(lr3.summary())"
   ]
  },
  {
   "cell_type": "code",
   "execution_count": 121,
   "metadata": {},
   "outputs": [
    {
     "data": {
      "text/html": [
       "<div>\n",
       "<style scoped>\n",
       "    .dataframe tbody tr th:only-of-type {\n",
       "        vertical-align: middle;\n",
       "    }\n",
       "\n",
       "    .dataframe tbody tr th {\n",
       "        vertical-align: top;\n",
       "    }\n",
       "\n",
       "    .dataframe thead th {\n",
       "        text-align: right;\n",
       "    }\n",
       "</style>\n",
       "<table border=\"1\" class=\"dataframe\">\n",
       "  <thead>\n",
       "    <tr style=\"text-align: right;\">\n",
       "      <th></th>\n",
       "      <th>variables</th>\n",
       "      <th>VIF</th>\n",
       "    </tr>\n",
       "  </thead>\n",
       "  <tbody>\n",
       "    <tr>\n",
       "      <th>1</th>\n",
       "      <td>carwidth</td>\n",
       "      <td>16.48</td>\n",
       "    </tr>\n",
       "    <tr>\n",
       "      <th>2</th>\n",
       "      <td>enginesize</td>\n",
       "      <td>10.03</td>\n",
       "    </tr>\n",
       "    <tr>\n",
       "      <th>3</th>\n",
       "      <td>boreratio</td>\n",
       "      <td>9.35</td>\n",
       "    </tr>\n",
       "    <tr>\n",
       "      <th>0</th>\n",
       "      <td>enginelocation</td>\n",
       "      <td>1.60</td>\n",
       "    </tr>\n",
       "    <tr>\n",
       "      <th>5</th>\n",
       "      <td>CompanyName_porsche</td>\n",
       "      <td>1.59</td>\n",
       "    </tr>\n",
       "    <tr>\n",
       "      <th>7</th>\n",
       "      <td>cylindernumber_two</td>\n",
       "      <td>1.17</td>\n",
       "    </tr>\n",
       "    <tr>\n",
       "      <th>4</th>\n",
       "      <td>CompanyName_bmw</td>\n",
       "      <td>1.14</td>\n",
       "    </tr>\n",
       "    <tr>\n",
       "      <th>6</th>\n",
       "      <td>cylindernumber_three</td>\n",
       "      <td>1.01</td>\n",
       "    </tr>\n",
       "  </tbody>\n",
       "</table>\n",
       "</div>"
      ],
      "text/plain": [
       "              variables    VIF\n",
       "1              carwidth  16.48\n",
       "2            enginesize  10.03\n",
       "3             boreratio   9.35\n",
       "0        enginelocation   1.60\n",
       "5   CompanyName_porsche   1.59\n",
       "7    cylindernumber_two   1.17\n",
       "4       CompanyName_bmw   1.14\n",
       "6  cylindernumber_three   1.01"
      ]
     },
     "execution_count": 121,
     "metadata": {},
     "output_type": "execute_result"
    }
   ],
   "source": [
    "# Checking the multicollinearity of the independent variables\n",
    "\n",
    "# Creating dataframe to contain names of variables and their VIF values\n",
    "vif = pd.DataFrame()\n",
    "vif[\"variables\"] = X_train_top.columns\n",
    "vif[\"VIF\"] = [variance_inflation_factor(X_train_top.values, i) for i in range(X_train_top.shape[1])]\n",
    "vif[\"VIF\"] = round(vif[\"VIF\"], 2)\n",
    "vif = vif.sort_values(by=\"VIF\", ascending=False)\n",
    "vif"
   ]
  },
  {
   "cell_type": "markdown",
   "metadata": {},
   "source": [
    "In Model-3, there is a variable \"boreratio\" who's p-value is 0.077 which is greater than 0.05 means variable \"boreratio\" is insignificant. Also it's VIF is 9.35 which is greater than 5 which shows multicollinearity in the model, We will remove variable \"boreratio\" and will create model again."
   ]
  },
  {
   "cell_type": "markdown",
   "metadata": {},
   "source": [
    "## Model-4\n",
    "Creating Linear Model using statsmodels"
   ]
  },
  {
   "cell_type": "code",
   "execution_count": 122,
   "metadata": {},
   "outputs": [],
   "source": [
    "# Creating new dataframe X_train_top from remaining variables\n",
    "X_train_top = X_train[['enginelocation', 'carwidth', 'enginesize', 'CompanyName_bmw', 'CompanyName_porsche', 'cylindernumber_three', 'cylindernumber_two']].copy()\n",
    "\n",
    "# Adding Constant to X_train\n",
    "X_train_lm = sm.add_constant(X_train_top)\n",
    "\n",
    "# Fitting model using OLS method\n",
    "lr4 = sm.OLS(y_train, X_train_lm).fit()"
   ]
  },
  {
   "cell_type": "code",
   "execution_count": 123,
   "metadata": {},
   "outputs": [
    {
     "name": "stdout",
     "output_type": "stream",
     "text": [
      "                            OLS Regression Results                            \n",
      "==============================================================================\n",
      "Dep. Variable:                  price   R-squared:                       0.899\n",
      "Model:                            OLS   Adj. R-squared:                  0.893\n",
      "Method:                 Least Squares   F-statistic:                     171.1\n",
      "Date:                Mon, 07 Oct 2019   Prob (F-statistic):           7.04e-64\n",
      "Time:                        17:04:43   Log-Likelihood:                 180.65\n",
      "No. Observations:                 143   AIC:                            -345.3\n",
      "Df Residuals:                     135   BIC:                            -321.6\n",
      "Df Model:                           7                                         \n",
      "Covariance Type:            nonrobust                                         \n",
      "========================================================================================\n",
      "                           coef    std err          t      P>|t|      [0.025      0.975]\n",
      "----------------------------------------------------------------------------------------\n",
      "const                   -0.1925      0.017    -11.273      0.000      -0.226      -0.159\n",
      "enginelocation           0.3627      0.090      4.009      0.000       0.184       0.542\n",
      "carwidth                 0.4687      0.054      8.656      0.000       0.362       0.576\n",
      "enginesize               0.7242      0.066     10.901      0.000       0.593       0.856\n",
      "CompanyName_bmw          0.2474      0.031      8.064      0.000       0.187       0.308\n",
      "CompanyName_porsche      0.0815      0.052      1.572      0.118      -0.021       0.184\n",
      "cylindernumber_three     0.1935      0.072      2.670      0.009       0.050       0.337\n",
      "cylindernumber_two       0.1685      0.038      4.449      0.000       0.094       0.243\n",
      "==============================================================================\n",
      "Omnibus:                        6.236   Durbin-Watson:                   2.022\n",
      "Prob(Omnibus):                  0.044   Jarque-Bera (JB):                5.817\n",
      "Skew:                           0.429   Prob(JB):                       0.0546\n",
      "Kurtosis:                       3.488   Cond. No.                         19.9\n",
      "==============================================================================\n",
      "\n",
      "Warnings:\n",
      "[1] Standard Errors assume that the covariance matrix of the errors is correctly specified.\n"
     ]
    }
   ],
   "source": [
    "# Checking summary of Model\n",
    "print(lr4.summary())"
   ]
  },
  {
   "cell_type": "code",
   "execution_count": 124,
   "metadata": {},
   "outputs": [
    {
     "data": {
      "text/html": [
       "<div>\n",
       "<style scoped>\n",
       "    .dataframe tbody tr th:only-of-type {\n",
       "        vertical-align: middle;\n",
       "    }\n",
       "\n",
       "    .dataframe tbody tr th {\n",
       "        vertical-align: top;\n",
       "    }\n",
       "\n",
       "    .dataframe thead th {\n",
       "        text-align: right;\n",
       "    }\n",
       "</style>\n",
       "<table border=\"1\" class=\"dataframe\">\n",
       "  <thead>\n",
       "    <tr style=\"text-align: right;\">\n",
       "      <th></th>\n",
       "      <th>variables</th>\n",
       "      <th>VIF</th>\n",
       "    </tr>\n",
       "  </thead>\n",
       "  <tbody>\n",
       "    <tr>\n",
       "      <th>2</th>\n",
       "      <td>enginesize</td>\n",
       "      <td>9.98</td>\n",
       "    </tr>\n",
       "    <tr>\n",
       "      <th>1</th>\n",
       "      <td>carwidth</td>\n",
       "      <td>9.69</td>\n",
       "    </tr>\n",
       "    <tr>\n",
       "      <th>0</th>\n",
       "      <td>enginelocation</td>\n",
       "      <td>1.58</td>\n",
       "    </tr>\n",
       "    <tr>\n",
       "      <th>4</th>\n",
       "      <td>CompanyName_porsche</td>\n",
       "      <td>1.57</td>\n",
       "    </tr>\n",
       "    <tr>\n",
       "      <th>6</th>\n",
       "      <td>cylindernumber_two</td>\n",
       "      <td>1.16</td>\n",
       "    </tr>\n",
       "    <tr>\n",
       "      <th>3</th>\n",
       "      <td>CompanyName_bmw</td>\n",
       "      <td>1.14</td>\n",
       "    </tr>\n",
       "    <tr>\n",
       "      <th>5</th>\n",
       "      <td>cylindernumber_three</td>\n",
       "      <td>1.00</td>\n",
       "    </tr>\n",
       "  </tbody>\n",
       "</table>\n",
       "</div>"
      ],
      "text/plain": [
       "              variables   VIF\n",
       "2            enginesize  9.98\n",
       "1              carwidth  9.69\n",
       "0        enginelocation  1.58\n",
       "4   CompanyName_porsche  1.57\n",
       "6    cylindernumber_two  1.16\n",
       "3       CompanyName_bmw  1.14\n",
       "5  cylindernumber_three  1.00"
      ]
     },
     "execution_count": 124,
     "metadata": {},
     "output_type": "execute_result"
    }
   ],
   "source": [
    "# Checking the multicollinearity of the independent variables\n",
    "\n",
    "# Creating dataframe to contain names of variables and their VIF values\n",
    "vif = pd.DataFrame()\n",
    "vif[\"variables\"] = X_train_top.columns\n",
    "vif[\"VIF\"] = [variance_inflation_factor(X_train_top.values, i) for i in range(X_train_top.shape[1])]\n",
    "vif[\"VIF\"] = round(vif[\"VIF\"], 2)\n",
    "vif = vif.sort_values(by=\"VIF\", ascending=False)\n",
    "vif"
   ]
  },
  {
   "cell_type": "markdown",
   "metadata": {},
   "source": [
    "In Model-4, there is a variable \"CompanyName_porsche\" who's p-value is 0.118 which is greater than 0.05 means variable \"CompanyName_porsche\" is insignificant. We will remove insignificant variable \"CompanyName_porsche\" and will create model again."
   ]
  },
  {
   "cell_type": "markdown",
   "metadata": {},
   "source": [
    "## Model-5\n",
    "Creating Linear Model using statsmodels"
   ]
  },
  {
   "cell_type": "code",
   "execution_count": 125,
   "metadata": {},
   "outputs": [],
   "source": [
    "# Creating new dataframe X_train_top from remaining variables\n",
    "X_train_top = X_train[['enginelocation', 'carwidth', 'enginesize', 'CompanyName_bmw', 'cylindernumber_three', 'cylindernumber_two']].copy()\n",
    "\n",
    "# Adding Constant to X_train\n",
    "X_train_lm = sm.add_constant(X_train_top)\n",
    "\n",
    "# Fitting model using OLS method\n",
    "lr5 = sm.OLS(y_train, X_train_lm).fit()"
   ]
  },
  {
   "cell_type": "code",
   "execution_count": 126,
   "metadata": {},
   "outputs": [
    {
     "name": "stdout",
     "output_type": "stream",
     "text": [
      "                            OLS Regression Results                            \n",
      "==============================================================================\n",
      "Dep. Variable:                  price   R-squared:                       0.897\n",
      "Model:                            OLS   Adj. R-squared:                  0.892\n",
      "Method:                 Least Squares   F-statistic:                     197.0\n",
      "Date:                Mon, 07 Oct 2019   Prob (F-statistic):           1.62e-64\n",
      "Time:                        17:05:03   Log-Likelihood:                 179.35\n",
      "No. Observations:                 143   AIC:                            -344.7\n",
      "Df Residuals:                     136   BIC:                            -324.0\n",
      "Df Model:                           6                                         \n",
      "Covariance Type:            nonrobust                                         \n",
      "========================================================================================\n",
      "                           coef    std err          t      P>|t|      [0.025      0.975]\n",
      "----------------------------------------------------------------------------------------\n",
      "const                   -0.1976      0.017    -11.724      0.000      -0.231      -0.164\n",
      "enginelocation           0.4454      0.074      6.020      0.000       0.299       0.592\n",
      "carwidth                 0.4850      0.053      9.078      0.000       0.379       0.591\n",
      "enginesize               0.7192      0.067     10.780      0.000       0.587       0.851\n",
      "CompanyName_bmw          0.2459      0.031      7.975      0.000       0.185       0.307\n",
      "cylindernumber_three     0.1986      0.073      2.729      0.007       0.055       0.342\n",
      "cylindernumber_two       0.1665      0.038      4.374      0.000       0.091       0.242\n",
      "==============================================================================\n",
      "Omnibus:                        4.203   Durbin-Watson:                   2.020\n",
      "Prob(Omnibus):                  0.122   Jarque-Bera (JB):                3.671\n",
      "Skew:                           0.351   Prob(JB):                        0.159\n",
      "Kurtosis:                       3.352   Cond. No.                         17.2\n",
      "==============================================================================\n",
      "\n",
      "Warnings:\n",
      "[1] Standard Errors assume that the covariance matrix of the errors is correctly specified.\n"
     ]
    }
   ],
   "source": [
    "# Checking summary of Model\n",
    "print(lr5.summary())"
   ]
  },
  {
   "cell_type": "code",
   "execution_count": 127,
   "metadata": {},
   "outputs": [
    {
     "data": {
      "text/html": [
       "<div>\n",
       "<style scoped>\n",
       "    .dataframe tbody tr th:only-of-type {\n",
       "        vertical-align: middle;\n",
       "    }\n",
       "\n",
       "    .dataframe tbody tr th {\n",
       "        vertical-align: top;\n",
       "    }\n",
       "\n",
       "    .dataframe thead th {\n",
       "        text-align: right;\n",
       "    }\n",
       "</style>\n",
       "<table border=\"1\" class=\"dataframe\">\n",
       "  <thead>\n",
       "    <tr style=\"text-align: right;\">\n",
       "      <th></th>\n",
       "      <th>variables</th>\n",
       "      <th>VIF</th>\n",
       "    </tr>\n",
       "  </thead>\n",
       "  <tbody>\n",
       "    <tr>\n",
       "      <th>2</th>\n",
       "      <td>enginesize</td>\n",
       "      <td>9.98</td>\n",
       "    </tr>\n",
       "    <tr>\n",
       "      <th>1</th>\n",
       "      <td>carwidth</td>\n",
       "      <td>9.63</td>\n",
       "    </tr>\n",
       "    <tr>\n",
       "      <th>5</th>\n",
       "      <td>cylindernumber_two</td>\n",
       "      <td>1.16</td>\n",
       "    </tr>\n",
       "    <tr>\n",
       "      <th>3</th>\n",
       "      <td>CompanyName_bmw</td>\n",
       "      <td>1.13</td>\n",
       "    </tr>\n",
       "    <tr>\n",
       "      <th>0</th>\n",
       "      <td>enginelocation</td>\n",
       "      <td>1.08</td>\n",
       "    </tr>\n",
       "    <tr>\n",
       "      <th>4</th>\n",
       "      <td>cylindernumber_three</td>\n",
       "      <td>1.00</td>\n",
       "    </tr>\n",
       "  </tbody>\n",
       "</table>\n",
       "</div>"
      ],
      "text/plain": [
       "              variables   VIF\n",
       "2            enginesize  9.98\n",
       "1              carwidth  9.63\n",
       "5    cylindernumber_two  1.16\n",
       "3       CompanyName_bmw  1.13\n",
       "0        enginelocation  1.08\n",
       "4  cylindernumber_three  1.00"
      ]
     },
     "execution_count": 127,
     "metadata": {},
     "output_type": "execute_result"
    }
   ],
   "source": [
    "# Checking the multicollinearity of the independent variables\n",
    "\n",
    "# Creating dataframe to contain names of variables and their VIF values\n",
    "vif = pd.DataFrame()\n",
    "vif[\"variables\"] = X_train_top.columns\n",
    "vif[\"VIF\"] = [variance_inflation_factor(X_train_top.values, i) for i in range(X_train_top.shape[1])]\n",
    "vif[\"VIF\"] = round(vif[\"VIF\"], 2)\n",
    "vif = vif.sort_values(by=\"VIF\", ascending=False)\n",
    "vif"
   ]
  },
  {
   "cell_type": "markdown",
   "metadata": {},
   "source": [
    "In Model-5, there are variables who's VIF is greater than 5 which shows multicollinearity in the model, We will remove variable \"enginesize\" as it is having maximum VIF(9.98) and will create model again."
   ]
  },
  {
   "cell_type": "markdown",
   "metadata": {},
   "source": [
    "## Model-6\n",
    "Creating Linear Model using statsmodels"
   ]
  },
  {
   "cell_type": "code",
   "execution_count": 128,
   "metadata": {},
   "outputs": [],
   "source": [
    "# Creating new dataframe X_train_top from remaining variables\n",
    "X_train_top = X_train[['enginelocation', 'carwidth', 'CompanyName_bmw', 'cylindernumber_three', 'cylindernumber_two']].copy()\n",
    "\n",
    "# Adding Constant to X_train\n",
    "X_train_lm = sm.add_constant(X_train_top)\n",
    "\n",
    "# Fitting model using OLS method\n",
    "lr6 = sm.OLS(y_train, X_train_lm).fit()"
   ]
  },
  {
   "cell_type": "code",
   "execution_count": 129,
   "metadata": {},
   "outputs": [
    {
     "name": "stdout",
     "output_type": "stream",
     "text": [
      "                            OLS Regression Results                            \n",
      "==============================================================================\n",
      "Dep. Variable:                  price   R-squared:                       0.809\n",
      "Model:                            OLS   Adj. R-squared:                  0.802\n",
      "Method:                 Least Squares   F-statistic:                     115.8\n",
      "Date:                Mon, 07 Oct 2019   Prob (F-statistic):           2.02e-47\n",
      "Time:                        17:05:16   Log-Likelihood:                 135.20\n",
      "No. Observations:                 143   AIC:                            -258.4\n",
      "Df Residuals:                     137   BIC:                            -240.6\n",
      "Df Model:                           5                                         \n",
      "Covariance Type:            nonrobust                                         \n",
      "========================================================================================\n",
      "                           coef    std err          t      P>|t|      [0.025      0.975]\n",
      "----------------------------------------------------------------------------------------\n",
      "const                   -0.2348      0.022    -10.487      0.000      -0.279      -0.191\n",
      "enginelocation           0.6663      0.096      6.908      0.000       0.476       0.857\n",
      "carwidth                 0.9374      0.045     20.902      0.000       0.849       1.026\n",
      "CompanyName_bmw          0.3373      0.040      8.386      0.000       0.258       0.417\n",
      "cylindernumber_three     0.2357      0.099      2.390      0.018       0.041       0.431\n",
      "cylindernumber_two       0.0313      0.049      0.641      0.523      -0.065       0.128\n",
      "==============================================================================\n",
      "Omnibus:                       26.778   Durbin-Watson:                   2.075\n",
      "Prob(Omnibus):                  0.000   Jarque-Bera (JB):               53.249\n",
      "Skew:                           0.823   Prob(JB):                     2.74e-12\n",
      "Kurtosis:                       5.495   Cond. No.                         13.7\n",
      "==============================================================================\n",
      "\n",
      "Warnings:\n",
      "[1] Standard Errors assume that the covariance matrix of the errors is correctly specified.\n"
     ]
    }
   ],
   "source": [
    "# Checking summary of Model\n",
    "print(lr6.summary())"
   ]
  },
  {
   "cell_type": "code",
   "execution_count": 130,
   "metadata": {},
   "outputs": [
    {
     "data": {
      "text/html": [
       "<div>\n",
       "<style scoped>\n",
       "    .dataframe tbody tr th:only-of-type {\n",
       "        vertical-align: middle;\n",
       "    }\n",
       "\n",
       "    .dataframe tbody tr th {\n",
       "        vertical-align: top;\n",
       "    }\n",
       "\n",
       "    .dataframe thead th {\n",
       "        text-align: right;\n",
       "    }\n",
       "</style>\n",
       "<table border=\"1\" class=\"dataframe\">\n",
       "  <thead>\n",
       "    <tr style=\"text-align: right;\">\n",
       "      <th></th>\n",
       "      <th>variables</th>\n",
       "      <th>VIF</th>\n",
       "    </tr>\n",
       "  </thead>\n",
       "  <tbody>\n",
       "    <tr>\n",
       "      <th>1</th>\n",
       "      <td>carwidth</td>\n",
       "      <td>1.08</td>\n",
       "    </tr>\n",
       "    <tr>\n",
       "      <th>2</th>\n",
       "      <td>CompanyName_bmw</td>\n",
       "      <td>1.05</td>\n",
       "    </tr>\n",
       "    <tr>\n",
       "      <th>4</th>\n",
       "      <td>cylindernumber_two</td>\n",
       "      <td>1.02</td>\n",
       "    </tr>\n",
       "    <tr>\n",
       "      <th>0</th>\n",
       "      <td>enginelocation</td>\n",
       "      <td>1.00</td>\n",
       "    </tr>\n",
       "    <tr>\n",
       "      <th>3</th>\n",
       "      <td>cylindernumber_three</td>\n",
       "      <td>1.00</td>\n",
       "    </tr>\n",
       "  </tbody>\n",
       "</table>\n",
       "</div>"
      ],
      "text/plain": [
       "              variables   VIF\n",
       "1              carwidth  1.08\n",
       "2       CompanyName_bmw  1.05\n",
       "4    cylindernumber_two  1.02\n",
       "0        enginelocation  1.00\n",
       "3  cylindernumber_three  1.00"
      ]
     },
     "execution_count": 130,
     "metadata": {},
     "output_type": "execute_result"
    }
   ],
   "source": [
    "# Checking the multicollinearity of the independent variables\n",
    "\n",
    "# Creating dataframe to contain names of variables and their VIF values\n",
    "vif = pd.DataFrame()\n",
    "vif[\"variables\"] = X_train_top.columns\n",
    "vif[\"VIF\"] = [variance_inflation_factor(X_train_top.values, i) for i in range(X_train_top.shape[1])]\n",
    "vif[\"VIF\"] = round(vif[\"VIF\"], 2)\n",
    "vif = vif.sort_values(by=\"VIF\", ascending=False)\n",
    "vif"
   ]
  },
  {
   "cell_type": "markdown",
   "metadata": {},
   "source": [
    "In Model-6, there is a variable \"cylindernumber_two\" who's p-value is 0.523 which is greater than 0.05 means variable \"cylindernumber_two\" is insignificant. We will remove insignificant variable \"cylindernumber_two\" and will create model again."
   ]
  },
  {
   "cell_type": "markdown",
   "metadata": {},
   "source": [
    "## Model-7\n",
    "Creating Linear Model using statsmodels"
   ]
  },
  {
   "cell_type": "code",
   "execution_count": 131,
   "metadata": {},
   "outputs": [],
   "source": [
    "# Creating new dataframe X_train_top from remaining variables\n",
    "X_train_top = X_train[['enginelocation', 'carwidth', 'CompanyName_bmw', 'cylindernumber_three']].copy()\n",
    "\n",
    "# Adding Constant to X_train\n",
    "X_train_lm = sm.add_constant(X_train_top)\n",
    "\n",
    "# Fitting model using OLS method\n",
    "lr7 = sm.OLS(y_train, X_train_lm).fit()"
   ]
  },
  {
   "cell_type": "code",
   "execution_count": 132,
   "metadata": {},
   "outputs": [
    {
     "name": "stdout",
     "output_type": "stream",
     "text": [
      "                            OLS Regression Results                            \n",
      "==============================================================================\n",
      "Dep. Variable:                  price   R-squared:                       0.808\n",
      "Model:                            OLS   Adj. R-squared:                  0.803\n",
      "Method:                 Least Squares   F-statistic:                     145.3\n",
      "Date:                Mon, 07 Oct 2019   Prob (F-statistic):           1.92e-48\n",
      "Time:                        17:05:27   Log-Likelihood:                 134.98\n",
      "No. Observations:                 143   AIC:                            -260.0\n",
      "Df Residuals:                     138   BIC:                            -245.2\n",
      "Df Model:                           4                                         \n",
      "Covariance Type:            nonrobust                                         \n",
      "========================================================================================\n",
      "                           coef    std err          t      P>|t|      [0.025      0.975]\n",
      "----------------------------------------------------------------------------------------\n",
      "const                   -0.2337      0.022    -10.490      0.000      -0.278      -0.190\n",
      "enginelocation           0.6654      0.096      6.913      0.000       0.475       0.856\n",
      "carwidth                 0.9371      0.045     20.941      0.000       0.849       1.026\n",
      "CompanyName_bmw          0.3364      0.040      8.387      0.000       0.257       0.416\n",
      "cylindernumber_three     0.2346      0.098      2.385      0.018       0.040       0.429\n",
      "==============================================================================\n",
      "Omnibus:                       25.980   Durbin-Watson:                   2.092\n",
      "Prob(Omnibus):                  0.000   Jarque-Bera (JB):               51.083\n",
      "Skew:                           0.803   Prob(JB):                     8.08e-12\n",
      "Kurtosis:                       5.448   Cond. No.                         13.7\n",
      "==============================================================================\n",
      "\n",
      "Warnings:\n",
      "[1] Standard Errors assume that the covariance matrix of the errors is correctly specified.\n"
     ]
    }
   ],
   "source": [
    "# Checking summary of Model\n",
    "print(lr7.summary())"
   ]
  },
  {
   "cell_type": "code",
   "execution_count": 133,
   "metadata": {},
   "outputs": [
    {
     "data": {
      "text/html": [
       "<div>\n",
       "<style scoped>\n",
       "    .dataframe tbody tr th:only-of-type {\n",
       "        vertical-align: middle;\n",
       "    }\n",
       "\n",
       "    .dataframe tbody tr th {\n",
       "        vertical-align: top;\n",
       "    }\n",
       "\n",
       "    .dataframe thead th {\n",
       "        text-align: right;\n",
       "    }\n",
       "</style>\n",
       "<table border=\"1\" class=\"dataframe\">\n",
       "  <thead>\n",
       "    <tr style=\"text-align: right;\">\n",
       "      <th></th>\n",
       "      <th>variables</th>\n",
       "      <th>VIF</th>\n",
       "    </tr>\n",
       "  </thead>\n",
       "  <tbody>\n",
       "    <tr>\n",
       "      <th>1</th>\n",
       "      <td>carwidth</td>\n",
       "      <td>1.06</td>\n",
       "    </tr>\n",
       "    <tr>\n",
       "      <th>2</th>\n",
       "      <td>CompanyName_bmw</td>\n",
       "      <td>1.05</td>\n",
       "    </tr>\n",
       "    <tr>\n",
       "      <th>0</th>\n",
       "      <td>enginelocation</td>\n",
       "      <td>1.00</td>\n",
       "    </tr>\n",
       "    <tr>\n",
       "      <th>3</th>\n",
       "      <td>cylindernumber_three</td>\n",
       "      <td>1.00</td>\n",
       "    </tr>\n",
       "  </tbody>\n",
       "</table>\n",
       "</div>"
      ],
      "text/plain": [
       "              variables   VIF\n",
       "1              carwidth  1.06\n",
       "2       CompanyName_bmw  1.05\n",
       "0        enginelocation  1.00\n",
       "3  cylindernumber_three  1.00"
      ]
     },
     "execution_count": 133,
     "metadata": {},
     "output_type": "execute_result"
    }
   ],
   "source": [
    "# Checking the multicollinearity of the independent variables\n",
    "\n",
    "# Creating dataframe to contain names of variables and their VIF values\n",
    "vif = pd.DataFrame()\n",
    "vif[\"variables\"] = X_train_top.columns\n",
    "vif[\"VIF\"] = [variance_inflation_factor(X_train_top.values, i) for i in range(X_train_top.shape[1])]\n",
    "vif[\"VIF\"] = round(vif[\"VIF\"], 2)\n",
    "vif = vif.sort_values(by=\"VIF\", ascending=False)\n",
    "vif"
   ]
  },
  {
   "cell_type": "markdown",
   "metadata": {},
   "source": [
    "BMW is a luxury brand, In anyway price will increase for luxury brand so we will drop variable \"CompanyName_bmw\" as it will not be significant factor to describe the price of car. "
   ]
  },
  {
   "cell_type": "markdown",
   "metadata": {},
   "source": [
    "## Model-8\n",
    "Creating Linear Model using statsmodels"
   ]
  },
  {
   "cell_type": "code",
   "execution_count": 134,
   "metadata": {},
   "outputs": [],
   "source": [
    "# Creating new dataframe X_train_top from remaining variables\n",
    "X_train_top = X_train[['enginelocation', 'carwidth', 'cylindernumber_three']].copy()\n",
    "\n",
    "# Adding Constant to X_train\n",
    "X_train_lm = sm.add_constant(X_train_top)\n",
    "\n",
    "# Fitting model using OLS method\n",
    "lr8 = sm.OLS(y_train, X_train_lm).fit()"
   ]
  },
  {
   "cell_type": "code",
   "execution_count": 135,
   "metadata": {},
   "outputs": [
    {
     "name": "stdout",
     "output_type": "stream",
     "text": [
      "                            OLS Regression Results                            \n",
      "==============================================================================\n",
      "Dep. Variable:                  price   R-squared:                       0.710\n",
      "Model:                            OLS   Adj. R-squared:                  0.704\n",
      "Method:                 Least Squares   F-statistic:                     113.6\n",
      "Date:                Mon, 07 Oct 2019   Prob (F-statistic):           3.22e-37\n",
      "Time:                        17:06:37   Log-Likelihood:                 105.53\n",
      "No. Observations:                 143   AIC:                            -203.1\n",
      "Df Residuals:                     139   BIC:                            -191.2\n",
      "Df Model:                           3                                         \n",
      "Covariance Type:            nonrobust                                         \n",
      "========================================================================================\n",
      "                           coef    std err          t      P>|t|      [0.025      0.975]\n",
      "----------------------------------------------------------------------------------------\n",
      "const                   -0.2329      0.027     -8.540      0.000      -0.287      -0.179\n",
      "enginelocation           0.6532      0.118      5.544      0.000       0.420       0.886\n",
      "carwidth                 0.9662      0.055     17.689      0.000       0.858       1.074\n",
      "cylindernumber_three     0.2338      0.120      1.941      0.054      -0.004       0.472\n",
      "==============================================================================\n",
      "Omnibus:                       62.046   Durbin-Watson:                   1.640\n",
      "Prob(Omnibus):                  0.000   Jarque-Bera (JB):              257.109\n",
      "Skew:                           1.547   Prob(JB):                     1.48e-56\n",
      "Kurtosis:                       8.795   Cond. No.                         13.7\n",
      "==============================================================================\n",
      "\n",
      "Warnings:\n",
      "[1] Standard Errors assume that the covariance matrix of the errors is correctly specified.\n"
     ]
    }
   ],
   "source": [
    "# Checking summary of Model\n",
    "print(lr8.summary())"
   ]
  },
  {
   "cell_type": "code",
   "execution_count": 136,
   "metadata": {},
   "outputs": [
    {
     "data": {
      "text/html": [
       "<div>\n",
       "<style scoped>\n",
       "    .dataframe tbody tr th:only-of-type {\n",
       "        vertical-align: middle;\n",
       "    }\n",
       "\n",
       "    .dataframe tbody tr th {\n",
       "        vertical-align: top;\n",
       "    }\n",
       "\n",
       "    .dataframe thead th {\n",
       "        text-align: right;\n",
       "    }\n",
       "</style>\n",
       "<table border=\"1\" class=\"dataframe\">\n",
       "  <thead>\n",
       "    <tr style=\"text-align: right;\">\n",
       "      <th></th>\n",
       "      <th>variables</th>\n",
       "      <th>VIF</th>\n",
       "    </tr>\n",
       "  </thead>\n",
       "  <tbody>\n",
       "    <tr>\n",
       "      <th>0</th>\n",
       "      <td>enginelocation</td>\n",
       "      <td>1.0</td>\n",
       "    </tr>\n",
       "    <tr>\n",
       "      <th>1</th>\n",
       "      <td>carwidth</td>\n",
       "      <td>1.0</td>\n",
       "    </tr>\n",
       "    <tr>\n",
       "      <th>2</th>\n",
       "      <td>cylindernumber_three</td>\n",
       "      <td>1.0</td>\n",
       "    </tr>\n",
       "  </tbody>\n",
       "</table>\n",
       "</div>"
      ],
      "text/plain": [
       "              variables  VIF\n",
       "0        enginelocation  1.0\n",
       "1              carwidth  1.0\n",
       "2  cylindernumber_three  1.0"
      ]
     },
     "execution_count": 136,
     "metadata": {},
     "output_type": "execute_result"
    }
   ],
   "source": [
    "# Checking the multicollinearity of the independent variables\n",
    "\n",
    "# Creating dataframe to contain names of variables and their VIF values\n",
    "vif = pd.DataFrame()\n",
    "vif[\"variables\"] = X_train_top.columns\n",
    "vif[\"VIF\"] = [variance_inflation_factor(X_train_top.values, i) for i in range(X_train_top.shape[1])]\n",
    "vif[\"VIF\"] = round(vif[\"VIF\"], 2)\n",
    "vif = vif.sort_values(by=\"VIF\", ascending=False)\n",
    "vif"
   ]
  },
  {
   "cell_type": "markdown",
   "metadata": {},
   "source": [
    "In Model-8, there is a variable \"cylindernumber_three\" who's p-value is 0.054 which is greater than 0.05 means variable \"cylindernumber_three\" is insignificant. We will remove insignificant variable \"cylindernumber_three\" and will create model again."
   ]
  },
  {
   "cell_type": "markdown",
   "metadata": {},
   "source": [
    "## Model-9\n",
    "Creating Linear Model using statsmodels"
   ]
  },
  {
   "cell_type": "code",
   "execution_count": 137,
   "metadata": {},
   "outputs": [],
   "source": [
    "# Creating new dataframe X_train_top from remaining variables\n",
    "X_train_top = X_train[['enginelocation', 'carwidth']].copy()\n",
    "\n",
    "# Adding Constant to X_train\n",
    "X_train_lm = sm.add_constant(X_train_top)\n",
    "\n",
    "# Fitting model using OLS method\n",
    "lr9 = sm.OLS(y_train, X_train_lm).fit()"
   ]
  },
  {
   "cell_type": "code",
   "execution_count": 138,
   "metadata": {},
   "outputs": [
    {
     "name": "stdout",
     "output_type": "stream",
     "text": [
      "                            OLS Regression Results                            \n",
      "==============================================================================\n",
      "Dep. Variable:                  price   R-squared:                       0.702\n",
      "Model:                            OLS   Adj. R-squared:                  0.698\n",
      "Method:                 Least Squares   F-statistic:                     165.3\n",
      "Date:                Mon, 07 Oct 2019   Prob (F-statistic):           1.41e-37\n",
      "Time:                        17:07:04   Log-Likelihood:                 103.62\n",
      "No. Observations:                 143   AIC:                            -201.2\n",
      "Df Residuals:                     140   BIC:                            -192.4\n",
      "Df Model:                           2                                         \n",
      "Covariance Type:            nonrobust                                         \n",
      "==================================================================================\n",
      "                     coef    std err          t      P>|t|      [0.025      0.975]\n",
      "----------------------------------------------------------------------------------\n",
      "const             -0.2209      0.027     -8.236      0.000      -0.274      -0.168\n",
      "enginelocation     0.6500      0.119      5.464      0.000       0.415       0.885\n",
      "carwidth           0.9438      0.054     17.505      0.000       0.837       1.050\n",
      "==============================================================================\n",
      "Omnibus:                       61.683   Durbin-Watson:                   1.592\n",
      "Prob(Omnibus):                  0.000   Jarque-Bera (JB):              238.577\n",
      "Skew:                           1.568   Prob(JB):                     1.56e-52\n",
      "Kurtosis:                       8.496   Cond. No.                         13.3\n",
      "==============================================================================\n",
      "\n",
      "Warnings:\n",
      "[1] Standard Errors assume that the covariance matrix of the errors is correctly specified.\n"
     ]
    }
   ],
   "source": [
    "# Checking summary of Model\n",
    "print(lr9.summary())"
   ]
  },
  {
   "cell_type": "code",
   "execution_count": 139,
   "metadata": {},
   "outputs": [
    {
     "data": {
      "text/html": [
       "<div>\n",
       "<style scoped>\n",
       "    .dataframe tbody tr th:only-of-type {\n",
       "        vertical-align: middle;\n",
       "    }\n",
       "\n",
       "    .dataframe tbody tr th {\n",
       "        vertical-align: top;\n",
       "    }\n",
       "\n",
       "    .dataframe thead th {\n",
       "        text-align: right;\n",
       "    }\n",
       "</style>\n",
       "<table border=\"1\" class=\"dataframe\">\n",
       "  <thead>\n",
       "    <tr style=\"text-align: right;\">\n",
       "      <th></th>\n",
       "      <th>variables</th>\n",
       "      <th>VIF</th>\n",
       "    </tr>\n",
       "  </thead>\n",
       "  <tbody>\n",
       "    <tr>\n",
       "      <th>0</th>\n",
       "      <td>enginelocation</td>\n",
       "      <td>1.0</td>\n",
       "    </tr>\n",
       "    <tr>\n",
       "      <th>1</th>\n",
       "      <td>carwidth</td>\n",
       "      <td>1.0</td>\n",
       "    </tr>\n",
       "  </tbody>\n",
       "</table>\n",
       "</div>"
      ],
      "text/plain": [
       "        variables  VIF\n",
       "0  enginelocation  1.0\n",
       "1        carwidth  1.0"
      ]
     },
     "execution_count": 139,
     "metadata": {},
     "output_type": "execute_result"
    }
   ],
   "source": [
    "# Checking the multicollinearity of the independent variables\n",
    "\n",
    "# Creating dataframe to contain names of variables and their VIF values\n",
    "vif = pd.DataFrame()\n",
    "vif[\"variables\"] = X_train_top.columns\n",
    "vif[\"VIF\"] = [variance_inflation_factor(X_train_top.values, i) for i in range(X_train_top.shape[1])]\n",
    "vif[\"VIF\"] = round(vif[\"VIF\"], 2)\n",
    "vif = vif.sort_values(by=\"VIF\", ascending=False)\n",
    "vif"
   ]
  },
  {
   "cell_type": "markdown",
   "metadata": {},
   "source": [
    "Now we will replace variable \"carwidth\" with variable \"curbweight\" and will check if it improves the Model-9"
   ]
  },
  {
   "cell_type": "markdown",
   "metadata": {},
   "source": [
    "## Model-10\n",
    "Creating Linear Model using statsmodels"
   ]
  },
  {
   "cell_type": "code",
   "execution_count": 140,
   "metadata": {},
   "outputs": [],
   "source": [
    "# Creating new dataframe X_train_top from remaining variables\n",
    "X_train_top = X_train[['enginelocation', 'curbweight']].copy()\n",
    "\n",
    "# Adding Constant to X_train\n",
    "X_train_lm = sm.add_constant(X_train_top)\n",
    "\n",
    "# Fitting model using OLS method\n",
    "lr10 = sm.OLS(y_train, X_train_lm).fit()"
   ]
  },
  {
   "cell_type": "code",
   "execution_count": 141,
   "metadata": {},
   "outputs": [
    {
     "name": "stdout",
     "output_type": "stream",
     "text": [
      "                            OLS Regression Results                            \n",
      "==============================================================================\n",
      "Dep. Variable:                  price   R-squared:                       0.782\n",
      "Model:                            OLS   Adj. R-squared:                  0.779\n",
      "Method:                 Least Squares   F-statistic:                     250.8\n",
      "Date:                Mon, 07 Oct 2019   Prob (F-statistic):           5.25e-47\n",
      "Time:                        17:07:14   Log-Likelihood:                 125.80\n",
      "No. Observations:                 143   AIC:                            -245.6\n",
      "Df Residuals:                     140   BIC:                            -236.7\n",
      "Df Model:                           2                                         \n",
      "Covariance Type:            nonrobust                                         \n",
      "==================================================================================\n",
      "                     coef    std err          t      P>|t|      [0.025      0.975]\n",
      "----------------------------------------------------------------------------------\n",
      "const             -0.1404      0.019     -7.588      0.000      -0.177      -0.104\n",
      "enginelocation     0.5096      0.102      5.002      0.000       0.308       0.711\n",
      "curbweight         0.8731      0.040     21.651      0.000       0.793       0.953\n",
      "==============================================================================\n",
      "Omnibus:                       36.360   Durbin-Watson:                   1.549\n",
      "Prob(Omnibus):                  0.000   Jarque-Bera (JB):              141.755\n",
      "Skew:                           0.834   Prob(JB):                     1.65e-31\n",
      "Kurtosis:                       7.584   Cond. No.                         13.0\n",
      "==============================================================================\n",
      "\n",
      "Warnings:\n",
      "[1] Standard Errors assume that the covariance matrix of the errors is correctly specified.\n"
     ]
    }
   ],
   "source": [
    "# Checking summary of Model\n",
    "print(lr10.summary())"
   ]
  },
  {
   "cell_type": "code",
   "execution_count": 142,
   "metadata": {},
   "outputs": [
    {
     "data": {
      "text/html": [
       "<div>\n",
       "<style scoped>\n",
       "    .dataframe tbody tr th:only-of-type {\n",
       "        vertical-align: middle;\n",
       "    }\n",
       "\n",
       "    .dataframe tbody tr th {\n",
       "        vertical-align: top;\n",
       "    }\n",
       "\n",
       "    .dataframe thead th {\n",
       "        text-align: right;\n",
       "    }\n",
       "</style>\n",
       "<table border=\"1\" class=\"dataframe\">\n",
       "  <thead>\n",
       "    <tr style=\"text-align: right;\">\n",
       "      <th></th>\n",
       "      <th>variables</th>\n",
       "      <th>VIF</th>\n",
       "    </tr>\n",
       "  </thead>\n",
       "  <tbody>\n",
       "    <tr>\n",
       "      <th>0</th>\n",
       "      <td>enginelocation</td>\n",
       "      <td>1.01</td>\n",
       "    </tr>\n",
       "    <tr>\n",
       "      <th>1</th>\n",
       "      <td>curbweight</td>\n",
       "      <td>1.01</td>\n",
       "    </tr>\n",
       "  </tbody>\n",
       "</table>\n",
       "</div>"
      ],
      "text/plain": [
       "        variables   VIF\n",
       "0  enginelocation  1.01\n",
       "1      curbweight  1.01"
      ]
     },
     "execution_count": 142,
     "metadata": {},
     "output_type": "execute_result"
    }
   ],
   "source": [
    "# Checking the multicollinearity of the independent variables\n",
    "\n",
    "# Creating dataframe to contain names of variables and their VIF values\n",
    "vif = pd.DataFrame()\n",
    "vif[\"variables\"] = X_train_top.columns\n",
    "vif[\"VIF\"] = [variance_inflation_factor(X_train_top.values, i) for i in range(X_train_top.shape[1])]\n",
    "vif[\"VIF\"] = round(vif[\"VIF\"], 2)\n",
    "vif = vif.sort_values(by=\"VIF\", ascending=False)\n",
    "vif"
   ]
  },
  {
   "cell_type": "markdown",
   "metadata": {},
   "source": [
    "By replacing variable \"carwidth\" with variable \"curbweight\", Adj. R-squared increased from 69.8% to 77.9% which means our model is improved.\n",
    "\n",
    "R-squared is 78.2% which means model Accuracy is 78.2% and VIFs & p-values both are within an acceptable range. \n",
    "So now we go ahead and make predictions & residual analysis using Model-10."
   ]
  },
  {
   "cell_type": "markdown",
   "metadata": {},
   "source": [
    "# Residual analysis"
   ]
  },
  {
   "cell_type": "markdown",
   "metadata": {},
   "source": [
    "Checking if error terms are normally distributed"
   ]
  },
  {
   "cell_type": "code",
   "execution_count": 143,
   "metadata": {},
   "outputs": [],
   "source": [
    "# Predicting value of X_train_lm using Model-10\n",
    "y_train_pred = lr10.predict(X_train_lm)\n",
    "\n",
    "#Finding residuals\n",
    "res = y_train - y_train_pred"
   ]
  },
  {
   "cell_type": "code",
   "execution_count": 144,
   "metadata": {},
   "outputs": [
    {
     "data": {
      "text/plain": [
       "Text(0.5, 1.0, 'Residuals')"
      ]
     },
     "execution_count": 144,
     "metadata": {},
     "output_type": "execute_result"
    },
    {
     "data": {
      "image/png": "[encoded data removed]",
      "text/plain": [
       "<Figure size 432x288 with 1 Axes>"
      ]
     },
     "metadata": {
      "needs_background": "light"
     },
     "output_type": "display_data"
    }
   ],
   "source": [
    "# Plotting histogram using residuals\n",
    "sns.distplot(res, bins=20)\n",
    "plt.xlabel(\"Error Terms\")\n",
    "plt.title(\"Residuals\", fontsize=20)"
   ]
  },
  {
   "cell_type": "markdown",
   "metadata": {},
   "source": [
    "According to above plot, error terms are normally distributed."
   ]
  },
  {
   "cell_type": "markdown",
   "metadata": {},
   "source": [
    "."
   ]
  },
  {
   "cell_type": "code",
   "execution_count": 145,
   "metadata": {},
   "outputs": [
    {
     "data": {
      "text/plain": [
       "Text(0.5, 1.0, 'Training Data (Actual Vs Predicted)')"
      ]
     },
     "execution_count": 145,
     "metadata": {},
     "output_type": "execute_result"
    },
    {
     "data": {
      "image/png": "[encoded data removed]",
      "text/plain": [
       "<Figure size 864x432 with 1 Axes>"
      ]
     },
     "metadata": {
      "needs_background": "light"
     },
     "output_type": "display_data"
    }
   ],
   "source": [
    "# Plotting graph to check overlap of actual training data and predicted training data\n",
    "c = [i for i in range(1,144,1)]\n",
    "plt.figure(figsize=(12, 6))\n",
    "plt.plot(c,y_train, color=\"blue\", linewidth=2.5, linestyle=\"-\")\n",
    "plt.plot(c,y_train_pred, color=\"red\",  linewidth=2.5, linestyle=\"-\")\n",
    "plt.xlabel(\"y_train and y_train_pred\")\n",
    "plt.title(\"Training Data (Actual Vs Predicted)\", fontsize=20)"
   ]
  },
  {
   "cell_type": "markdown",
   "metadata": {},
   "source": [
    "Checking if error terms are independent of each other"
   ]
  },
  {
   "cell_type": "code",
   "execution_count": 146,
   "metadata": {},
   "outputs": [
    {
     "data": {
      "text/plain": [
       "Text(0.5, 1.0, 'Residuals')"
      ]
     },
     "execution_count": 146,
     "metadata": {},
     "output_type": "execute_result"
    },
    {
     "data": {
      "image/png": "[encoded data removed]",
      "text/plain": [
       "<Figure size 864x432 with 1 Axes>"
      ]
     },
     "metadata": {
      "needs_background": "light"
     },
     "output_type": "display_data"
    }
   ],
   "source": [
    "# plotting graph for residuals to check if there is any pattern\n",
    "plt.figure(figsize=(12, 6))\n",
    "c = [i for i in range(1,144,1)]\n",
    "plt.plot(c,res, color=\"blue\", linewidth=2.5, linestyle=\"-\")\n",
    "plt.xlabel(\"Error Terms\")\n",
    "plt.title(\"Residuals\", fontsize=20)"
   ]
  },
  {
   "cell_type": "code",
   "execution_count": 147,
   "metadata": {},
   "outputs": [
    {
     "data": {
      "text/plain": [
       "Text(0.5, 1.0, 'Residuals')"
      ]
     },
     "execution_count": 147,
     "metadata": {},
     "output_type": "execute_result"
    },
    {
     "data": {
      "image/png": "[encoded data removed]",
      "text/plain": [
       "<Figure size 432x288 with 1 Axes>"
      ]
     },
     "metadata": {
      "needs_background": "light"
     },
     "output_type": "display_data"
    }
   ],
   "source": [
    "# plotting scatter plot for residuals to check if there is any pattern\n",
    "plt.scatter(y_train, res)\n",
    "plt.xlabel(\"Error Terms\")\n",
    "plt.title(\"Residuals\", fontsize=20)"
   ]
  },
  {
   "cell_type": "markdown",
   "metadata": {},
   "source": [
    "# Predictions and Evaluation of testing data"
   ]
  },
  {
   "cell_type": "code",
   "execution_count": 148,
   "metadata": {},
   "outputs": [],
   "source": [
    "# Scaling testing data using scalar object of training data\n",
    "# for all column except binary and dummy variables\n",
    "num_vars = [\"symboling\", \"wheelbase\", \"carlength\", \"carwidth\", \"carheight\", \"curbweight\", \"enginesize\", \"boreratio\", \"stroke\", \"compressionratio\", \"horsepower\", \"peakrpm\", \"citympg\", \"highwaympg\", \"price\"]\n",
    "car_test[num_vars] = scalar_obj.transform(car_test[num_vars])"
   ]
  },
  {
   "cell_type": "code",
   "execution_count": 149,
   "metadata": {},
   "outputs": [
    {
     "data": {
      "text/html": [
       "<div>\n",
       "<style scoped>\n",
       "    .dataframe tbody tr th:only-of-type {\n",
       "        vertical-align: middle;\n",
       "    }\n",
       "\n",
       "    .dataframe tbody tr th {\n",
       "        vertical-align: top;\n",
       "    }\n",
       "\n",
       "    .dataframe thead th {\n",
       "        text-align: right;\n",
       "    }\n",
       "</style>\n",
       "<table border=\"1\" class=\"dataframe\">\n",
       "  <thead>\n",
       "    <tr style=\"text-align: right;\">\n",
       "      <th></th>\n",
       "      <th>symboling</th>\n",
       "      <th>fueltype</th>\n",
       "      <th>aspiration</th>\n",
       "      <th>doornumber</th>\n",
       "      <th>enginelocation</th>\n",
       "      <th>wheelbase</th>\n",
       "      <th>carlength</th>\n",
       "      <th>carwidth</th>\n",
       "      <th>carheight</th>\n",
       "      <th>curbweight</th>\n",
       "      <th>...</th>\n",
       "      <th>cylindernumber_three</th>\n",
       "      <th>cylindernumber_twelve</th>\n",
       "      <th>cylindernumber_two</th>\n",
       "      <th>fuelsystem_2bbl</th>\n",
       "      <th>fuelsystem_4bbl</th>\n",
       "      <th>fuelsystem_idi</th>\n",
       "      <th>fuelsystem_mfi</th>\n",
       "      <th>fuelsystem_mpfi</th>\n",
       "      <th>fuelsystem_spdi</th>\n",
       "      <th>fuelsystem_spfi</th>\n",
       "    </tr>\n",
       "  </thead>\n",
       "  <tbody>\n",
       "    <tr>\n",
       "      <th>count</th>\n",
       "      <td>62.000000</td>\n",
       "      <td>62.000000</td>\n",
       "      <td>62.000000</td>\n",
       "      <td>62.000000</td>\n",
       "      <td>62.000000</td>\n",
       "      <td>62.000000</td>\n",
       "      <td>62.000000</td>\n",
       "      <td>62.000000</td>\n",
       "      <td>62.000000</td>\n",
       "      <td>62.000000</td>\n",
       "      <td>...</td>\n",
       "      <td>62.0</td>\n",
       "      <td>62.0</td>\n",
       "      <td>62.0</td>\n",
       "      <td>62.000000</td>\n",
       "      <td>62.0</td>\n",
       "      <td>62.000000</td>\n",
       "      <td>62.000000</td>\n",
       "      <td>62.000000</td>\n",
       "      <td>62.000000</td>\n",
       "      <td>62.000000</td>\n",
       "    </tr>\n",
       "    <tr>\n",
       "      <th>mean</th>\n",
       "      <td>0.583871</td>\n",
       "      <td>0.112903</td>\n",
       "      <td>0.177419</td>\n",
       "      <td>0.564516</td>\n",
       "      <td>0.032258</td>\n",
       "      <td>0.437764</td>\n",
       "      <td>0.559481</td>\n",
       "      <td>0.480376</td>\n",
       "      <td>0.559663</td>\n",
       "      <td>0.428470</td>\n",
       "      <td>...</td>\n",
       "      <td>0.0</td>\n",
       "      <td>0.0</td>\n",
       "      <td>0.0</td>\n",
       "      <td>0.258065</td>\n",
       "      <td>0.0</td>\n",
       "      <td>0.112903</td>\n",
       "      <td>0.016129</td>\n",
       "      <td>0.500000</td>\n",
       "      <td>0.048387</td>\n",
       "      <td>0.016129</td>\n",
       "    </tr>\n",
       "    <tr>\n",
       "      <th>std</th>\n",
       "      <td>0.271724</td>\n",
       "      <td>0.319058</td>\n",
       "      <td>0.385142</td>\n",
       "      <td>0.499868</td>\n",
       "      <td>0.178127</td>\n",
       "      <td>0.212861</td>\n",
       "      <td>0.189947</td>\n",
       "      <td>0.165440</td>\n",
       "      <td>0.215811</td>\n",
       "      <td>0.179488</td>\n",
       "      <td>...</td>\n",
       "      <td>0.0</td>\n",
       "      <td>0.0</td>\n",
       "      <td>0.0</td>\n",
       "      <td>0.441142</td>\n",
       "      <td>0.0</td>\n",
       "      <td>0.319058</td>\n",
       "      <td>0.127000</td>\n",
       "      <td>0.504082</td>\n",
       "      <td>0.216335</td>\n",
       "      <td>0.127000</td>\n",
       "    </tr>\n",
       "    <tr>\n",
       "      <th>min</th>\n",
       "      <td>0.000000</td>\n",
       "      <td>0.000000</td>\n",
       "      <td>0.000000</td>\n",
       "      <td>0.000000</td>\n",
       "      <td>0.000000</td>\n",
       "      <td>0.000000</td>\n",
       "      <td>0.056911</td>\n",
       "      <td>0.183333</td>\n",
       "      <td>0.141593</td>\n",
       "      <td>0.128394</td>\n",
       "      <td>...</td>\n",
       "      <td>0.0</td>\n",
       "      <td>0.0</td>\n",
       "      <td>0.0</td>\n",
       "      <td>0.000000</td>\n",
       "      <td>0.0</td>\n",
       "      <td>0.000000</td>\n",
       "      <td>0.000000</td>\n",
       "      <td>0.000000</td>\n",
       "      <td>0.000000</td>\n",
       "      <td>0.000000</td>\n",
       "    </tr>\n",
       "    <tr>\n",
       "      <th>25%</th>\n",
       "      <td>0.400000</td>\n",
       "      <td>0.000000</td>\n",
       "      <td>0.000000</td>\n",
       "      <td>0.000000</td>\n",
       "      <td>0.000000</td>\n",
       "      <td>0.313793</td>\n",
       "      <td>0.459350</td>\n",
       "      <td>0.358333</td>\n",
       "      <td>0.384956</td>\n",
       "      <td>0.305275</td>\n",
       "      <td>...</td>\n",
       "      <td>0.0</td>\n",
       "      <td>0.0</td>\n",
       "      <td>0.0</td>\n",
       "      <td>0.000000</td>\n",
       "      <td>0.0</td>\n",
       "      <td>0.000000</td>\n",
       "      <td>0.000000</td>\n",
       "      <td>0.000000</td>\n",
       "      <td>0.000000</td>\n",
       "      <td>0.000000</td>\n",
       "    </tr>\n",
       "    <tr>\n",
       "      <th>50%</th>\n",
       "      <td>0.600000</td>\n",
       "      <td>0.000000</td>\n",
       "      <td>0.000000</td>\n",
       "      <td>1.000000</td>\n",
       "      <td>0.000000</td>\n",
       "      <td>0.387931</td>\n",
       "      <td>0.547967</td>\n",
       "      <td>0.441667</td>\n",
       "      <td>0.588496</td>\n",
       "      <td>0.406129</td>\n",
       "      <td>...</td>\n",
       "      <td>0.0</td>\n",
       "      <td>0.0</td>\n",
       "      <td>0.0</td>\n",
       "      <td>0.000000</td>\n",
       "      <td>0.0</td>\n",
       "      <td>0.000000</td>\n",
       "      <td>0.000000</td>\n",
       "      <td>0.500000</td>\n",
       "      <td>0.000000</td>\n",
       "      <td>0.000000</td>\n",
       "    </tr>\n",
       "    <tr>\n",
       "      <th>75%</th>\n",
       "      <td>0.800000</td>\n",
       "      <td>0.000000</td>\n",
       "      <td>0.000000</td>\n",
       "      <td>1.000000</td>\n",
       "      <td>0.000000</td>\n",
       "      <td>0.570690</td>\n",
       "      <td>0.719919</td>\n",
       "      <td>0.516667</td>\n",
       "      <td>0.699115</td>\n",
       "      <td>0.564876</td>\n",
       "      <td>...</td>\n",
       "      <td>0.0</td>\n",
       "      <td>0.0</td>\n",
       "      <td>0.0</td>\n",
       "      <td>0.750000</td>\n",
       "      <td>0.0</td>\n",
       "      <td>0.000000</td>\n",
       "      <td>0.000000</td>\n",
       "      <td>1.000000</td>\n",
       "      <td>0.000000</td>\n",
       "      <td>0.000000</td>\n",
       "    </tr>\n",
       "    <tr>\n",
       "      <th>max</th>\n",
       "      <td>1.000000</td>\n",
       "      <td>1.000000</td>\n",
       "      <td>1.000000</td>\n",
       "      <td>1.000000</td>\n",
       "      <td>1.000000</td>\n",
       "      <td>1.182759</td>\n",
       "      <td>1.089431</td>\n",
       "      <td>0.975000</td>\n",
       "      <td>1.061947</td>\n",
       "      <td>0.935609</td>\n",
       "      <td>...</td>\n",
       "      <td>0.0</td>\n",
       "      <td>0.0</td>\n",
       "      <td>0.0</td>\n",
       "      <td>1.000000</td>\n",
       "      <td>0.0</td>\n",
       "      <td>1.000000</td>\n",
       "      <td>1.000000</td>\n",
       "      <td>1.000000</td>\n",
       "      <td>1.000000</td>\n",
       "      <td>1.000000</td>\n",
       "    </tr>\n",
       "  </tbody>\n",
       "</table>\n",
       "<p>8 rows × 66 columns</p>\n",
       "</div>"
      ],
      "text/plain": [
       "       symboling   fueltype  aspiration  doornumber  enginelocation  \\\n",
       "count  62.000000  62.000000   62.000000   62.000000       62.000000   \n",
       "mean    0.583871   0.112903    0.177419    0.564516        0.032258   \n",
       "std     0.271724   0.319058    0.385142    0.499868        0.178127   \n",
       "min     0.000000   0.000000    0.000000    0.000000        0.000000   \n",
       "25%     0.400000   0.000000    0.000000    0.000000        0.000000   \n",
       "50%     0.600000   0.000000    0.000000    1.000000        0.000000   \n",
       "75%     0.800000   0.000000    0.000000    1.000000        0.000000   \n",
       "max     1.000000   1.000000    1.000000    1.000000        1.000000   \n",
       "\n",
       "       wheelbase  carlength   carwidth  carheight  curbweight  ...  \\\n",
       "count  62.000000  62.000000  62.000000  62.000000   62.000000  ...   \n",
       "mean    0.437764   0.559481   0.480376   0.559663    0.428470  ...   \n",
       "std     0.212861   0.189947   0.165440   0.215811    0.179488  ...   \n",
       "min     0.000000   0.056911   0.183333   0.141593    0.128394  ...   \n",
       "25%     0.313793   0.459350   0.358333   0.384956    0.305275  ...   \n",
       "50%     0.387931   0.547967   0.441667   0.588496    0.406129  ...   \n",
       "75%     0.570690   0.719919   0.516667   0.699115    0.564876  ...   \n",
       "max     1.182759   1.089431   0.975000   1.061947    0.935609  ...   \n",
       "\n",
       "       cylindernumber_three  cylindernumber_twelve  cylindernumber_two  \\\n",
       "count                  62.0                   62.0                62.0   \n",
       "mean                    0.0                    0.0                 0.0   \n",
       "std                     0.0                    0.0                 0.0   \n",
       "min                     0.0                    0.0                 0.0   \n",
       "25%                     0.0                    0.0                 0.0   \n",
       "50%                     0.0                    0.0                 0.0   \n",
       "75%                     0.0                    0.0                 0.0   \n",
       "max                     0.0                    0.0                 0.0   \n",
       "\n",
       "       fuelsystem_2bbl  fuelsystem_4bbl  fuelsystem_idi  fuelsystem_mfi  \\\n",
       "count        62.000000             62.0       62.000000       62.000000   \n",
       "mean          0.258065              0.0        0.112903        0.016129   \n",
       "std           0.441142              0.0        0.319058        0.127000   \n",
       "min           0.000000              0.0        0.000000        0.000000   \n",
       "25%           0.000000              0.0        0.000000        0.000000   \n",
       "50%           0.000000              0.0        0.000000        0.000000   \n",
       "75%           0.750000              0.0        0.000000        0.000000   \n",
       "max           1.000000              0.0        1.000000        1.000000   \n",
       "\n",
       "       fuelsystem_mpfi  fuelsystem_spdi  fuelsystem_spfi  \n",
       "count        62.000000        62.000000        62.000000  \n",
       "mean          0.500000         0.048387         0.016129  \n",
       "std           0.504082         0.216335         0.127000  \n",
       "min           0.000000         0.000000         0.000000  \n",
       "25%           0.000000         0.000000         0.000000  \n",
       "50%           0.500000         0.000000         0.000000  \n",
       "75%           1.000000         0.000000         0.000000  \n",
       "max           1.000000         1.000000         1.000000  \n",
       "\n",
       "[8 rows x 66 columns]"
      ]
     },
     "execution_count": 149,
     "metadata": {},
     "output_type": "execute_result"
    }
   ],
   "source": [
    "# Checking summary statistics of car_test\n",
    "car_test.describe()"
   ]
  },
  {
   "cell_type": "code",
   "execution_count": 150,
   "metadata": {},
   "outputs": [],
   "source": [
    "# Deviding training data into X_train and y_train\n",
    "y_test = car_test.pop(\"price\")\n",
    "X_test = car_test"
   ]
  },
  {
   "cell_type": "code",
   "execution_count": 152,
   "metadata": {},
   "outputs": [],
   "source": [
    "# Creating new dataframe X_test_top from relevant variables used in \"X_train_top\" \n",
    "X_test_top = X_test[list(X_train_top.columns)].copy()\n",
    "\n",
    "# Adding Constant to X_test\n",
    "X_test_lm = sm.add_constant(X_test_top)"
   ]
  },
  {
   "cell_type": "code",
   "execution_count": 153,
   "metadata": {},
   "outputs": [],
   "source": [
    "# Predicting value of X_test_lm using Model-10\n",
    "y_test_pred = lr10.predict(X_test_lm)"
   ]
  },
  {
   "cell_type": "markdown",
   "metadata": {},
   "source": [
    "## Model Evaluation"
   ]
  },
  {
   "cell_type": "code",
   "execution_count": 154,
   "metadata": {},
   "outputs": [
    {
     "data": {
      "text/plain": [
       "Text(0.5, 1.0, 'Testing Data (Actual Vs Predicted)')"
      ]
     },
     "execution_count": 154,
     "metadata": {},
     "output_type": "execute_result"
    },
    {
     "data": {
      "image/png": "[encoded data removed]",
      "text/plain": [
       "<Figure size 720x432 with 1 Axes>"
      ]
     },
     "metadata": {
      "needs_background": "light"
     },
     "output_type": "display_data"
    }
   ],
   "source": [
    "# Plotting graph to check overlap of actual testing data and predicted testing data\n",
    "c = [i for i in range(1,63,1)]\n",
    "plt.figure(figsize=(10, 6))\n",
    "plt.plot(c,y_test, color=\"blue\", linewidth=2.5, linestyle=\"-\")\n",
    "plt.plot(c,y_test_pred, color=\"red\",  linewidth=2.5, linestyle=\"-\")\n",
    "plt.xlabel(\"y_test and y_test_pred\")\n",
    "plt.title(\"Testing Data (Actual Vs Predicted)\", fontsize=20)"
   ]
  },
  {
   "cell_type": "markdown",
   "metadata": {},
   "source": [
    "According to above plot, predicted data is nicely overlapping actual data which means model is predicting pretty well."
   ]
  },
  {
   "cell_type": "markdown",
   "metadata": {},
   "source": [
    "."
   ]
  },
  {
   "cell_type": "code",
   "execution_count": 155,
   "metadata": {},
   "outputs": [
    {
     "data": {
      "text/plain": [
       "0.7667903624888625"
      ]
     },
     "execution_count": 155,
     "metadata": {},
     "output_type": "execute_result"
    }
   ],
   "source": [
    "# Checking R-squared of testing data\n",
    "r2_score(y_test, y_test_pred)"
   ]
  },
  {
   "cell_type": "markdown",
   "metadata": {},
   "source": [
    "R-squared of Model-10 is 78.2% and R-squared of testing data is 76.7%, difference is only 1.5% which represents the stability of the Model-10"
   ]
  },
  {
   "cell_type": "markdown",
   "metadata": {},
   "source": [
    "## Conclusion"
   ]
  },
  {
   "cell_type": "markdown",
   "metadata": {},
   "source": [
    "Variables enginelocation and curbweight are significant factors to predict the price of a car in American Market.\n",
    "\n",
    "Variables enginelocation and curbweight can describe the price of a car using equation of our best fitted line which is:\n",
    "\n",
    "price = -0.1404 + 0.5096 x enginelocation + 0.8731 x curbweight."
   ]
  }
 ],
 "metadata": {
  "kernelspec": {
   "display_name": "Python 3",
   "language": "python",
   "name": "python3"
  },
  "language_info": {
   "codemirror_mode": {
    "name": "ipython",
    "version": 3
   },
   "file_extension": ".py",
   "mimetype": "text/x-python",
   "name": "python",
   "nbconvert_exporter": "python",
   "pygments_lexer": "ipython3",
   "version": "3.7.3"
  }
 },
 "nbformat": 4,
 "nbformat_minor": 2
}
